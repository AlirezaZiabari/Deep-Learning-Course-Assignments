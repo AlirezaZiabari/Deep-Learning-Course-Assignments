{
 "cells": [
  {
   "cell_type": "code",
   "execution_count": 1,
   "metadata": {
    "collapsed": true
   },
   "outputs": [],
   "source": [
    "import tensorflow as tf\n",
    "import numpy as np"
   ]
  },
  {
   "cell_type": "code",
   "execution_count": 2,
   "metadata": {
    "collapsed": true
   },
   "outputs": [],
   "source": [
    "from loader import load_ferdosi\n",
    "\n",
    "dataset_dir = '/Users/Alireza/Desktop/Current Semester/Deep Learning/Assignments/DL_HW4/ferdosi.txt'\n",
    "x_train, x_test, y_train, y_test, dictionary = load_ferdosi(dataset_dir)"
   ]
  },
  {
   "cell_type": "code",
   "execution_count": 4,
   "metadata": {},
   "outputs": [
    {
     "name": "stdout",
     "output_type": "stream",
     "text": [
      "40\n",
      "44648 4961\n",
      "44648 4961\n",
      "['_PAD_' '_PAD_' '_PAD_' '_PAD_' '_PAD_' '_PAD_' '_PAD_' '_PAD_' '_PAD_'\n",
      " '_PAD_' '_BOM_' 'و' 'گ' 'ر' ' ' 'د' 'ر' ' ' 'م' 'ی' 'ا' 'ن' ' ' 'د' 'و'\n",
      " ' ' 'ر' 'و' 'ی' 'ه' ' ' 'س' 'پ' 'ا' 'ه' ' ' '_EOM_']\n"
     ]
    }
   ],
   "source": [
    "print (len(dictionary))\n",
    "print (len(x_train), len(x_test))\n",
    "print (len(y_train), len(y_test))\n",
    "print(x_train[0])"
   ]
  },
  {
   "cell_type": "code",
   "execution_count": 5,
   "metadata": {
    "collapsed": true
   },
   "outputs": [],
   "source": [
    "word_index = dict((word, i) for i, word in enumerate(dictionary))\n",
    "index_word = dict((i, word) for i, word in enumerate(dictionary))\n"
   ]
  },
  {
   "cell_type": "code",
   "execution_count": 12,
   "metadata": {},
   "outputs": [
    {
     "name": "stdout",
     "output_type": "stream",
     "text": [
      "8\n",
      "ر\n"
     ]
    }
   ],
   "source": [
    "print (word_index[\"_EOM_\"])\n",
    "print (index_word[word_index[\"_EOM_\"]])"
   ]
  },
  {
   "cell_type": "code",
   "execution_count": 21,
   "metadata": {},
   "outputs": [],
   "source": [
    "x_train_index, y_train_index = [], []\n",
    "for (x_sen, y_sen) in zip(x_train, y_train):\n",
    "    x_train_index.append([word_index[elem] for elem in x_sen])\n",
    "    y_train_index.append([word_index[elem] for elem in y_sen])\n",
    "\n",
    "x_test_index, y_test_index = [], []\n",
    "for (x_sen, y_sen) in zip(x_test, y_test):\n",
    "    x_test_index.append([word_index[elem] for elem in x_sen])\n",
    "    y_test_index.append([word_index[elem] for elem in y_sen])"
   ]
  },
  {
   "cell_type": "code",
   "execution_count": 41,
   "metadata": {},
   "outputs": [
    {
     "name": "stdout",
     "output_type": "stream",
     "text": [
      "[5, 5, 5, 5, 5, 5, 5, 5, 5, 5, 1, 22, 17, 2, 16, 33, 2, 16, 19, 36, 37, 18, 16, 33, 22, 16, 2, 22, 36, 27, 16, 28, 34, 37, 27, 16, 8]\n",
      "[1, 16, 30, 17, 2, 33, 36, 16, 30, 35, 37, 7, 16, 37, 9, 16, 34, 36, 16, 18, 37, 19, 16, 22, 16, 23, 37, 8, 5, 5, 5, 5, 5, 5, 5, 5]\n",
      "44648\n",
      "44648\n",
      "4961\n",
      "4961\n",
      "37\n",
      "36\n"
     ]
    }
   ],
   "source": [
    "print (x_train_index[0])\n",
    "print (y_train_index[0])\n",
    "print (len(x_train_index))\n",
    "print (len(y_train_index))\n",
    "print (len(x_test_index))\n",
    "print (len(y_test_index))\n",
    "print (len(x_train_index[0]))\n",
    "print (len(y_train_index[0]))"
   ]
  },
  {
   "cell_type": "code",
   "execution_count": 28,
   "metadata": {
    "collapsed": true
   },
   "outputs": [],
   "source": [
    "def make_batches(x, y, batch_size):\n",
    "    n = len(y)\n",
    "    steps = n // batch_size\n",
    "    if n % batch_size != 0:\n",
    "        steps += 1\n",
    "    x_batches = np.array_split(x, steps)\n",
    "    y_batches = np.array_split(y, steps)\n",
    "    return x_batches, y_batches"
   ]
  },
  {
   "cell_type": "code",
   "execution_count": 36,
   "metadata": {},
   "outputs": [],
   "source": [
    "lr = 1e-4\n",
    "hidden_dim = 128\n",
    "\n",
    "\n",
    "tf.reset_default_graph()\n",
    "\n",
    "train_encoder_placeholder = tf.placeholder(shape = [None, None], dtype=tf.int32)\n",
    "train_decoder_placeholder = tf.placeholder(shape = [None, None], dtype=tf.int32)\n",
    "\n",
    "train_encoder = tf.one_hot(train_encoder_placeholder, depth = len(dictionary), \n",
    "                           on_value=1.0, off_value=0.0, axis=-1)\n",
    "train_decoder = tf.one_hot(train_decoder_placeholder, depth = len(dictionary), \n",
    "                           on_value=1.0, off_value=0.0, axis=-1)\n",
    "\n",
    "encoder_cell = tf.contrib.rnn.LSTMCell(hidden_dim)\n",
    "encoder_outputs, encoder_state = tf.nn.dynamic_rnn(encoder_cell, train_encoder, dtype=tf.float32)\n",
    "\n",
    "decoder_cell = tf.contrib.rnn.LSTMCell(hidden_dim, state_is_tuple = encoder_state)\n",
    "decoder_outputs, decoder_state = tf.nn.dynamic_rnn(encoder_cell, train_decoder, dtype=tf.float32)\n",
    "\n",
    "W = tf.get_variable(name = 'w',shape = (hidden_dim, len(dictionary)),initializer = tf.contrib.layers.xavier_initializer())\n",
    "b = tf.get_variable(name = 'b',shape = (len(dictionary),),initializer=tf.contrib.layers.xavier_initializer())\n",
    "logits = tf.einsum('ijk,kl', decoder_outputs, W)+ b \n",
    "\n",
    "cross_entropy = tf.reduce_mean(tf.nn.softmax_cross_entropy_with_logits_v2(logits=logits, labels=train_decoder))\n",
    "trainer = tf.train.AdamOptimizer(learning_rate=lr).minimize(cross_entropy)"
   ]
  },
  {
   "cell_type": "code",
   "execution_count": 39,
   "metadata": {},
   "outputs": [
    {
     "name": "stdout",
     "output_type": "stream",
     "text": [
      "\n",
      "********** Epoch   0 **********\n",
      "Train:\tLoss= 2.1007\n",
      "\n",
      "********** Epoch   1 **********\n",
      "Train:\tLoss= 1.0056\n",
      "\n",
      "********** Epoch   2 **********\n",
      "Train:\tLoss= 0.2283\n",
      "\n",
      "********** Epoch   3 **********\n",
      "Train:\tLoss= 0.0555\n",
      "\n",
      "********** Epoch   4 **********\n",
      "Train:\tLoss= 0.0195\n",
      "\n",
      "********** Epoch   5 **********\n",
      "Train:\tLoss= 0.0080\n",
      "\n",
      "********** Epoch   6 **********\n",
      "Train:\tLoss= 0.0036\n",
      "\n",
      "********** Epoch   7 **********\n",
      "Train:\tLoss= 0.0017\n",
      "\n",
      "********** Epoch   8 **********\n",
      "Train:\tLoss= 0.0009\n",
      "\n",
      "********** Epoch   9 **********\n",
      "Train:\tLoss= 0.0005\n",
      "\n",
      "********** Epoch  10 **********\n",
      "Train:\tLoss= 0.0003\n",
      "\n",
      "********** Epoch  11 **********\n",
      "Train:\tLoss= 0.0002\n",
      "\n",
      "********** Epoch  12 **********\n",
      "Train:\tLoss= 0.0001\n",
      "\n",
      "********** Epoch  13 **********\n",
      "Train:\tLoss= 0.0001\n",
      "\n",
      "********** Epoch  14 **********\n",
      "Train:\tLoss= 0.0000\n"
     ]
    }
   ],
   "source": [
    "########## Training ##########\n",
    "batch_size =32  \n",
    "x_train_batches, y_train_batches = make_batches(x_train_index, y_train_index, batch_size)\n",
    "# print(y_train_batches[1])\n",
    "epochs = 15\n",
    "N_Batches = len(x_train_batches)\n",
    "\n",
    "train_loss = np.zeros(epochs)\n",
    "\n",
    "sess = tf.Session()\n",
    "sess.run(tf.global_variables_initializer())\n",
    "for epoch in range(epochs):\n",
    "    print()\n",
    "    print(\"*\" * 10, \"Epoch %3i\"%epoch, \"*\" * 10)\n",
    "\n",
    "    batch_loss = np.zeros(N_Batches)\n",
    "\n",
    "    for n in range(N_Batches):\n",
    "        _, batch_loss[n] = sess.run([trainer, cross_entropy],\n",
    "                                    {train_encoder_placeholder: x_train_batches[n], \n",
    "                                     train_decoder_placeholder: y_train_batches[n]})\n",
    "        #print(\"Batch %3d/%d: Acc:%0.4f , Loss:%0.4f\"%(n, N_Batches, batch_acc[n], batch_loss[n]))\n",
    "\n",
    "    train_loss[epoch] = np.mean(batch_loss)\n",
    "    print(\"Train:\\tLoss= %0.4f\"%(train_loss[epoch]))"
   ]
  },
  {
   "cell_type": "code",
   "execution_count": 66,
   "metadata": {},
   "outputs": [],
   "source": [
    "class Chatbot:\n",
    "    def __init__(self, size_layer, num_layers, embedded_size,\n",
    "                 from_dict_size, to_dict_size, learning_rate, batch_size):\n",
    "        def cells(reuse=False):\n",
    "            return tf.nn.rnn_cell.LSTMCell(size_layer,initializer=tf.orthogonal_initializer(),reuse=reuse)\n",
    "\n",
    "        self.X = tf.placeholder(tf.int32, [None, None])\n",
    "        self.Y = tf.placeholder(tf.int32, [None, None])\n",
    "        self.X_seq_len = tf.placeholder(tf.int32, [None])\n",
    "        self.Y_seq_len = tf.placeholder(tf.int32, [None])\n",
    "\n",
    "        with tf.variable_scope(\"encoder_embeddings\"):\n",
    "            encoder_embeddings = tf.Variable(tf.random_uniform([from_dict_size, embedded_size], -1, 1))\n",
    "            encoder_embedded = tf.nn.embedding_lookup(encoder_embeddings, self.X)\n",
    "            main = tf.strided_slice(self.X, [0, 0], [batch_size, -1], [1, 1])\n",
    "\n",
    "        with tf.variable_scope(\"decoder_embeddings\"):\n",
    "            decoder_input = batch_size\n",
    "            decoder_embeddings = tf.Variable(tf.random_uniform([to_dict_size, embedded_size], -1, 1))\n",
    "            decoder_embedded = tf.nn.embedding_lookup(encoder_embeddings, decoder_input)\n",
    "\n",
    "        with tf.variable_scope(\"encoder\"):\n",
    "            rnn_cells = tf.nn.rnn_cell.MultiRNNCell([cells() for _ in range(num_layers)])\n",
    "            _, last_state = tf.nn.dynamic_rnn(rnn_cells, encoder_embedded,\n",
    "                                              dtype = tf.float32)\n",
    "\n",
    "        with tf.variable_scope(\"decoder\"):\n",
    "            rnn_cells_dec = tf.nn.rnn_cell.MultiRNNCell([cells() for _ in range(num_layers)])\n",
    "            outputs, _ = tf.nn.dynamic_rnn(rnn_cells_dec, decoder_embedded,\n",
    "                                           initial_state = last_state,\n",
    "                                           dtype = tf.float32)\n",
    "\n",
    "        with tf.variable_scope(\"logits\"):\n",
    "            self.logits = tf.layers.dense(outputs,to_dict_size)\n",
    "            print(self.logits)\n",
    "            masks = tf.sequence_mask(self.Y_seq_len, tf.reduce_max(self.Y_seq_len), dtype=tf.float32)\n",
    "\n",
    "        with tf.variable_scope(\"cost\"):\n",
    "            self.cost = tf.contrib.seq2seq.sequence_loss(logits = self.logits,\n",
    "                                                         targets = self.Y,weights = masks)\n",
    "\n",
    "        with tf.variable_scope(\"optimizer\"):\n",
    "            self.optimizer = tf.train.AdamOptimizer(learning_rate = learning_rate).minimize(self.cost)"
   ]
  },
  {
   "cell_type": "code",
   "execution_count": 67,
   "metadata": {
    "collapsed": true
   },
   "outputs": [],
   "source": [
    "size_layer = 128\n",
    "num_layers = 1\n",
    "embedded_size = 25\n",
    "learning_rate = 0.001\n",
    "batch_size = 32\n",
    "epoch = 50"
   ]
  },
  {
   "cell_type": "code",
   "execution_count": 68,
   "metadata": {
    "collapsed": true
   },
   "outputs": [],
   "source": [
    "def check_accuracy(logits, Y):\n",
    "    acc = 0\n",
    "    for i in range(logits.shape[0]):\n",
    "        internal_acc = 0\n",
    "    for k in range(len(Y[i])):\n",
    "        if Y[i][k] == logits[i][k]:\n",
    "            internal_acc += 1\n",
    "        acc += (internal_acc / len(Y[i]))\n",
    "    return acc / logits.shape[0]"
   ]
  },
  {
   "cell_type": "code",
   "execution_count": 69,
   "metadata": {},
   "outputs": [
    {
     "name": "stderr",
     "output_type": "stream",
     "text": [
      "/Users/alireza/anaconda3/lib/python3.6/site-packages/tensorflow/python/client/session.py:1702: UserWarning: An interactive session is already active. This can cause out-of-memory errors in some cases. You must explicitly call `InteractiveSession.close()` to release resources held by the other session(s).\n",
      "  warnings.warn('An interactive session is already active. This can '\n"
     ]
    },
    {
     "ename": "ValueError",
     "evalue": "Expected input tensor Tensor(\"decoder_embeddings/embedding_lookup/Identity:0\", shape=(25,), dtype=float32) to have rank at least 2",
     "output_type": "error",
     "traceback": [
      "\u001b[0;31m---------------------------------------------------------------------------\u001b[0m",
      "\u001b[0;31mValueError\u001b[0m                                Traceback (most recent call last)",
      "\u001b[0;32m<ipython-input-69-d525d369b6c1>\u001b[0m in \u001b[0;36m<module>\u001b[0;34m()\u001b[0m\n\u001b[1;32m      2\u001b[0m \u001b[0msess\u001b[0m \u001b[0;34m=\u001b[0m \u001b[0mtf\u001b[0m\u001b[0;34m.\u001b[0m\u001b[0mInteractiveSession\u001b[0m\u001b[0;34m(\u001b[0m\u001b[0;34m)\u001b[0m\u001b[0;34m\u001b[0m\u001b[0m\n\u001b[1;32m      3\u001b[0m model = Chatbot(size_layer, num_layers, embedded_size, len(dictionary),\n\u001b[0;32m----> 4\u001b[0;31m                 len(dictionary), learning_rate, batch_size)\n\u001b[0m\u001b[1;32m      5\u001b[0m \u001b[0msess\u001b[0m\u001b[0;34m.\u001b[0m\u001b[0mrun\u001b[0m\u001b[0;34m(\u001b[0m\u001b[0mtf\u001b[0m\u001b[0;34m.\u001b[0m\u001b[0mglobal_variables_initializer\u001b[0m\u001b[0;34m(\u001b[0m\u001b[0;34m)\u001b[0m\u001b[0;34m)\u001b[0m\u001b[0;34m\u001b[0m\u001b[0m\n\u001b[1;32m      6\u001b[0m \u001b[0mseq_x\u001b[0m \u001b[0;34m=\u001b[0m \u001b[0;34m[\u001b[0m\u001b[0mlen\u001b[0m\u001b[0;34m(\u001b[0m\u001b[0mx_train_index\u001b[0m\u001b[0;34m[\u001b[0m\u001b[0;36m0\u001b[0m\u001b[0;34m]\u001b[0m\u001b[0;34m)\u001b[0m \u001b[0;34m*\u001b[0m \u001b[0mbatch_size\u001b[0m\u001b[0;34m]\u001b[0m\u001b[0;34m\u001b[0m\u001b[0m\n",
      "\u001b[0;32m<ipython-input-66-c031565ef43f>\u001b[0m in \u001b[0;36m__init__\u001b[0;34m(self, size_layer, num_layers, embedded_size, from_dict_size, to_dict_size, learning_rate, batch_size)\u001b[0m\n\u001b[1;32m     29\u001b[0m             outputs, _ = tf.nn.dynamic_rnn(rnn_cells_dec, decoder_embedded,\n\u001b[1;32m     30\u001b[0m                                            \u001b[0minitial_state\u001b[0m \u001b[0;34m=\u001b[0m \u001b[0mlast_state\u001b[0m\u001b[0;34m,\u001b[0m\u001b[0;34m\u001b[0m\u001b[0m\n\u001b[0;32m---> 31\u001b[0;31m                                            dtype = tf.float32)\n\u001b[0m\u001b[1;32m     32\u001b[0m \u001b[0;34m\u001b[0m\u001b[0m\n\u001b[1;32m     33\u001b[0m         \u001b[0;32mwith\u001b[0m \u001b[0mtf\u001b[0m\u001b[0;34m.\u001b[0m\u001b[0mvariable_scope\u001b[0m\u001b[0;34m(\u001b[0m\u001b[0;34m\"logits\"\u001b[0m\u001b[0;34m)\u001b[0m\u001b[0;34m:\u001b[0m\u001b[0;34m\u001b[0m\u001b[0m\n",
      "\u001b[0;32m/Users/alireza/anaconda3/lib/python3.6/site-packages/tensorflow/python/util/deprecation.py\u001b[0m in \u001b[0;36mnew_func\u001b[0;34m(*args, **kwargs)\u001b[0m\n\u001b[1;32m    322\u001b[0m               \u001b[0;34m'in a future version'\u001b[0m \u001b[0;32mif\u001b[0m \u001b[0mdate\u001b[0m \u001b[0;32mis\u001b[0m \u001b[0;32mNone\u001b[0m \u001b[0;32melse\u001b[0m \u001b[0;34m(\u001b[0m\u001b[0;34m'after %s'\u001b[0m \u001b[0;34m%\u001b[0m \u001b[0mdate\u001b[0m\u001b[0;34m)\u001b[0m\u001b[0;34m,\u001b[0m\u001b[0;34m\u001b[0m\u001b[0m\n\u001b[1;32m    323\u001b[0m               instructions)\n\u001b[0;32m--> 324\u001b[0;31m       \u001b[0;32mreturn\u001b[0m \u001b[0mfunc\u001b[0m\u001b[0;34m(\u001b[0m\u001b[0;34m*\u001b[0m\u001b[0margs\u001b[0m\u001b[0;34m,\u001b[0m \u001b[0;34m**\u001b[0m\u001b[0mkwargs\u001b[0m\u001b[0;34m)\u001b[0m\u001b[0;34m\u001b[0m\u001b[0m\n\u001b[0m\u001b[1;32m    325\u001b[0m     return tf_decorator.make_decorator(\n\u001b[1;32m    326\u001b[0m         \u001b[0mfunc\u001b[0m\u001b[0;34m,\u001b[0m \u001b[0mnew_func\u001b[0m\u001b[0;34m,\u001b[0m \u001b[0;34m'deprecated'\u001b[0m\u001b[0;34m,\u001b[0m\u001b[0;34m\u001b[0m\u001b[0m\n",
      "\u001b[0;32m/Users/alireza/anaconda3/lib/python3.6/site-packages/tensorflow/python/ops/rnn.py\u001b[0m in \u001b[0;36mdynamic_rnn\u001b[0;34m(cell, inputs, sequence_length, initial_state, dtype, parallel_iterations, swap_memory, time_major, scope)\u001b[0m\n\u001b[1;32m    632\u001b[0m           sequence_length, name=\"sequence_length\")\n\u001b[1;32m    633\u001b[0m \u001b[0;34m\u001b[0m\u001b[0m\n\u001b[0;32m--> 634\u001b[0;31m     \u001b[0mbatch_size\u001b[0m \u001b[0;34m=\u001b[0m \u001b[0m_best_effort_input_batch_size\u001b[0m\u001b[0;34m(\u001b[0m\u001b[0mflat_input\u001b[0m\u001b[0;34m)\u001b[0m\u001b[0;34m\u001b[0m\u001b[0m\n\u001b[0m\u001b[1;32m    635\u001b[0m \u001b[0;34m\u001b[0m\u001b[0m\n\u001b[1;32m    636\u001b[0m     \u001b[0;32mif\u001b[0m \u001b[0minitial_state\u001b[0m \u001b[0;32mis\u001b[0m \u001b[0;32mnot\u001b[0m \u001b[0;32mNone\u001b[0m\u001b[0;34m:\u001b[0m\u001b[0;34m\u001b[0m\u001b[0m\n",
      "\u001b[0;32m/Users/alireza/anaconda3/lib/python3.6/site-packages/tensorflow/python/ops/rnn.py\u001b[0m in \u001b[0;36m_best_effort_input_batch_size\u001b[0;34m(flat_input)\u001b[0m\n\u001b[1;32m     90\u001b[0m     \u001b[0;32mif\u001b[0m \u001b[0mshape\u001b[0m\u001b[0;34m.\u001b[0m\u001b[0mrank\u001b[0m \u001b[0;34m<\u001b[0m \u001b[0;36m2\u001b[0m\u001b[0;34m:\u001b[0m\u001b[0;34m\u001b[0m\u001b[0m\n\u001b[1;32m     91\u001b[0m       raise ValueError(\n\u001b[0;32m---> 92\u001b[0;31m           \"Expected input tensor %s to have rank at least 2\" % input_)\n\u001b[0m\u001b[1;32m     93\u001b[0m     \u001b[0mbatch_size\u001b[0m \u001b[0;34m=\u001b[0m \u001b[0mshape\u001b[0m\u001b[0;34m.\u001b[0m\u001b[0mdims\u001b[0m\u001b[0;34m[\u001b[0m\u001b[0;36m1\u001b[0m\u001b[0;34m]\u001b[0m\u001b[0;34m.\u001b[0m\u001b[0mvalue\u001b[0m\u001b[0;34m\u001b[0m\u001b[0m\n\u001b[1;32m     94\u001b[0m     \u001b[0;32mif\u001b[0m \u001b[0mbatch_size\u001b[0m \u001b[0;32mis\u001b[0m \u001b[0;32mnot\u001b[0m \u001b[0;32mNone\u001b[0m\u001b[0;34m:\u001b[0m\u001b[0;34m\u001b[0m\u001b[0m\n",
      "\u001b[0;31mValueError\u001b[0m: Expected input tensor Tensor(\"decoder_embeddings/embedding_lookup/Identity:0\", shape=(25,), dtype=float32) to have rank at least 2"
     ]
    }
   ],
   "source": [
    "tf.reset_default_graph()\n",
    "sess = tf.InteractiveSession()\n",
    "model = Chatbot(size_layer, num_layers, embedded_size, len(dictionary),\n",
    "                len(dictionary), learning_rate, batch_size)\n",
    "sess.run(tf.global_variables_initializer())\n",
    "seq_x = [len(x_train_index[0]) * batch_size]\n",
    "seq_y = [len(y_train_index[0]) * batch_size]\n",
    "for i in range(epoch):\n",
    "    total_loss, total_accuracy = 0, 0\n",
    "    for k in range(0, (len(text_from) // batch_size) * batch_size, batch_size):\n",
    "        batch_x = tf.one_hot(x_train_index[k: k+batch_size], depth = len(dictionary), \n",
    "                           on_value=1.0, off_value=0.0, axis=-1)\n",
    "        batch_y = tf.one_hot(y_train_index[k: k+batch_size], depth = len(dictionary), \n",
    "                           on_value=1.0, off_value=0.0, axis=-1)\n",
    "        predicted, loss, _ = sess.run([tf.argmax(model.logits,2), model.cost, model.optimizer],\n",
    "                                      feed_dict={model.X:batch_x,\n",
    "                                                 model.Y:batch_y,\n",
    "                                                 model.X_seq_len:seq_x,\n",
    "                                                 model.Y_seq_len:seq_y})\n",
    "        total_loss += loss\n",
    "        total_accuracy += check_accuracy(predicted,batch_y)\n",
    "        \n",
    "    total_loss /= (len(text_from) // batch_size)\n",
    "    total_accuracy /= (len(text_from) // batch_size)\n",
    "    print('epoch: %d, avg loss: %f, avg accuracy: %f'%(i+1, total_loss, total_accuracy))"
   ]
  },
  {
   "cell_type": "code",
   "execution_count": null,
   "metadata": {
    "collapsed": true
   },
   "outputs": [],
   "source": []
  }
 ],
 "metadata": {
  "kernelspec": {
   "display_name": "Python 3",
   "language": "python",
   "name": "python3"
  },
  "language_info": {
   "codemirror_mode": {
    "name": "ipython",
    "version": 3
   },
   "file_extension": ".py",
   "mimetype": "text/x-python",
   "name": "python",
   "nbconvert_exporter": "python",
   "pygments_lexer": "ipython3",
   "version": "3.6.3"
  }
 },
 "nbformat": 4,
 "nbformat_minor": 2
}

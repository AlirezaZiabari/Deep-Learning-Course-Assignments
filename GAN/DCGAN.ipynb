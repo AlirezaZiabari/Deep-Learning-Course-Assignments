{
 "cells": [
  {
   "cell_type": "code",
   "execution_count": 0,
   "metadata": {
    "colab": {},
    "colab_type": "code",
    "collapsed": true,
    "id": "Mu_pd9TVFb9v"
   },
   "outputs": [],
   "source": [
    "import numpy as np"
   ]
  },
  {
   "cell_type": "code",
   "execution_count": 0,
   "metadata": {
    "colab": {},
    "colab_type": "code",
    "collapsed": true,
    "id": "flZ1MOT8F8kE"
   },
   "outputs": [],
   "source": [
    "import torch\n",
    "import torch.nn as nn\n",
    "import torch.nn.functional as F\n",
    "import torch.optim as optim\n",
    "from torchvision import datasets, transforms"
   ]
  },
  {
   "cell_type": "code",
   "execution_count": 3,
   "metadata": {
    "colab": {
     "base_uri": "https://localhost:8080/",
     "height": 275
    },
    "colab_type": "code",
    "executionInfo": {
     "elapsed": 7815,
     "status": "ok",
     "timestamp": 1559068656499,
     "user": {
      "displayName": "Alireza Ziabari",
      "photoUrl": "https://lh5.googleusercontent.com/-ciGzsAjhRdY/AAAAAAAAAAI/AAAAAAAAAus/cXIzpbkKXu0/s64/photo.jpg",
      "userId": "18285492427157036835"
     },
     "user_tz": -270
    },
    "id": "rg-CYaG9GU03",
    "outputId": "83c16b90-3bdd-4a6a-ebd8-82e26dcfdec2"
   },
   "outputs": [
    {
     "name": "stderr",
     "output_type": "stream",
     "text": [
      "  0%|          | 0/9912422 [00:00<?, ?it/s]"
     ]
    },
    {
     "name": "stdout",
     "output_type": "stream",
     "text": [
      "Downloading http://yann.lecun.com/exdb/mnist/train-images-idx3-ubyte.gz to ./mnist_data/MNIST/raw/train-images-idx3-ubyte.gz\n"
     ]
    },
    {
     "name": "stderr",
     "output_type": "stream",
     "text": [
      "9920512it [00:00, 19181562.66it/s]                            \n"
     ]
    },
    {
     "name": "stdout",
     "output_type": "stream",
     "text": [
      "Extracting ./mnist_data/MNIST/raw/train-images-idx3-ubyte.gz\n"
     ]
    },
    {
     "name": "stderr",
     "output_type": "stream",
     "text": [
      "32768it [00:00, 296707.89it/s]                           \n",
      "0it [00:00, ?it/s]"
     ]
    },
    {
     "name": "stdout",
     "output_type": "stream",
     "text": [
      "Downloading http://yann.lecun.com/exdb/mnist/train-labels-idx1-ubyte.gz to ./mnist_data/MNIST/raw/train-labels-idx1-ubyte.gz\n",
      "Extracting ./mnist_data/MNIST/raw/train-labels-idx1-ubyte.gz\n",
      "Downloading http://yann.lecun.com/exdb/mnist/t10k-images-idx3-ubyte.gz to ./mnist_data/MNIST/raw/t10k-images-idx3-ubyte.gz\n"
     ]
    },
    {
     "name": "stderr",
     "output_type": "stream",
     "text": [
      "1654784it [00:00, 5253703.09it/s]                           \n",
      "8192it [00:00, 117440.68it/s]\n"
     ]
    },
    {
     "name": "stdout",
     "output_type": "stream",
     "text": [
      "Extracting ./mnist_data/MNIST/raw/t10k-images-idx3-ubyte.gz\n",
      "Downloading http://yann.lecun.com/exdb/mnist/t10k-labels-idx1-ubyte.gz to ./mnist_data/MNIST/raw/t10k-labels-idx1-ubyte.gz\n",
      "Extracting ./mnist_data/MNIST/raw/t10k-labels-idx1-ubyte.gz\n",
      "Processing...\n",
      "Done!\n"
     ]
    }
   ],
   "source": [
    "# MNIST Dataset\n",
    "original_train_dataset = datasets.MNIST(root='./mnist_data/', train=True, transform=transforms.ToTensor(), download=True)\n",
    "original_test_dataset = datasets.MNIST(root='./mnist_data/', train=False, transform=transforms.ToTensor(), download=True)"
   ]
  },
  {
   "cell_type": "code",
   "execution_count": 0,
   "metadata": {
    "colab": {},
    "colab_type": "code",
    "collapsed": true,
    "id": "wZ06E4yEHbGo"
   },
   "outputs": [],
   "source": [
    "CUDA = True\n",
    "BATCH_SIZE = 64"
   ]
  },
  {
   "cell_type": "code",
   "execution_count": 0,
   "metadata": {
    "colab": {},
    "colab_type": "code",
    "collapsed": true,
    "id": "CXUYiAuzGWuh"
   },
   "outputs": [],
   "source": [
    "# Define Train loader\n",
    "train_tensors = original_train_dataset.data.float() / 255\n",
    "test_tensors = original_test_dataset.data.float() / 255\n",
    "\n",
    "train_dataset = torch.utils.data.TensorDataset(train_tensors, original_train_dataset.targets)\n",
    "test_dataset = torch.utils.data.TensorDataset(test_tensors, original_test_dataset.targets)\n",
    "\n",
    "train_loader = torch.utils.data.DataLoader(dataset=train_dataset, batch_size=BATCH_SIZE, shuffle=True)\n",
    "test_loader = torch.utils.data.DataLoader(dataset=test_dataset, batch_size=BATCH_SIZE, shuffle=False)"
   ]
  },
  {
   "cell_type": "code",
   "execution_count": 0,
   "metadata": {
    "colab": {},
    "colab_type": "code",
    "collapsed": true,
    "id": "b-P5Au4tHZAT"
   },
   "outputs": [],
   "source": [
    "discriminator = nn.Sequential(\n",
    "    nn.Dropout(),\n",
    "    nn.Linear(784, 256),\n",
    "    nn.LeakyReLU(0.2),\n",
    "    nn.Linear(256, 128),\n",
    "    nn.LeakyReLU(0.2),\n",
    "    nn.Linear(128, 64),\n",
    "    nn.Dropout(),\n",
    "    nn.LeakyReLU(0.2),\n",
    "    nn.Linear(64, 1),\n",
    "    nn.Sigmoid()\n",
    ")"
   ]
  },
  {
   "cell_type": "code",
   "execution_count": 0,
   "metadata": {
    "colab": {},
    "colab_type": "code",
    "collapsed": true,
    "id": "liKLsKy2H_9a"
   },
   "outputs": [],
   "source": [
    "generator = nn.Sequential(\n",
    "    nn.Linear(128, 128),\n",
    "    nn.LeakyReLU(0.2),\n",
    "    nn.Linear(128, 256),\n",
    "    nn.LeakyReLU(0.2),\n",
    "    nn.Linear(256, 512),\n",
    "    nn.LeakyReLU(0.2),\n",
    "    nn.Linear(512, 784),\n",
    "    nn.Sigmoid()\n",
    ")"
   ]
  },
  {
   "cell_type": "code",
   "execution_count": 0,
   "metadata": {
    "colab": {},
    "colab_type": "code",
    "collapsed": true,
    "id": "LPNWbLh5JW1L"
   },
   "outputs": [],
   "source": [
    "if CUDA:\n",
    "  discriminator.cuda()\n",
    "  generator.cuda()"
   ]
  },
  {
   "cell_type": "code",
   "execution_count": 0,
   "metadata": {
    "colab": {},
    "colab_type": "code",
    "collapsed": true,
    "id": "Kv2HXF9gIQ-Q"
   },
   "outputs": [],
   "source": [
    "LEARNING_RATE_D = 0.0002\n",
    "LEARNING_RATE_G = 0.0002\n",
    "\n",
    "\n",
    "opt_D = optim.Adam(discriminator.parameters(), lr=LEARNING_RATE_D)\n",
    "opt_G = optim.Adam(generator.parameters(), lr=LEARNING_RATE_G)"
   ]
  },
  {
   "cell_type": "code",
   "execution_count": 0,
   "metadata": {
    "colab": {},
    "colab_type": "code",
    "collapsed": true,
    "id": "7L-wvColI2fW"
   },
   "outputs": [],
   "source": [
    "N_EPOCH = 100"
   ]
  },
  {
   "cell_type": "code",
   "execution_count": 0,
   "metadata": {
    "colab": {},
    "colab_type": "code",
    "collapsed": true,
    "id": "EPhHTmx7zrNK"
   },
   "outputs": [],
   "source": [
    "import matplotlib.pyplot as plt\n",
    "%matplotlib inline\n",
    "plt.rcParams['figure.figsize'] = (10, 3) # set default size of plots"
   ]
  },
  {
   "cell_type": "code",
   "execution_count": 12,
   "metadata": {
    "colab": {
     "base_uri": "https://localhost:8080/",
     "height": 21417,
     "output_embedded_package_id": "1FnnKHteZqTwSQT2wqVT7hnS9frP6cmGl"
    },
    "colab_type": "code",
    "executionInfo": {
     "elapsed": 854021,
     "status": "ok",
     "timestamp": 1559069502739,
     "user": {
      "displayName": "Alireza Ziabari",
      "photoUrl": "https://lh5.googleusercontent.com/-ciGzsAjhRdY/AAAAAAAAAAI/AAAAAAAAAus/cXIzpbkKXu0/s64/photo.jpg",
      "userId": "18285492427157036835"
     },
     "user_tz": -270
    },
    "id": "DFXCjH1LLzNB",
    "outputId": "f4488742-a760-4a16-96f9-6d0364871b64"
   },
   "outputs": [
    {
     "data": {
      "text/plain": [
       "Output hidden; open in https://colab.research.google.com to view."
      ]
     },
     "metadata": {},
     "output_type": "display_data"
    }
   ],
   "source": [
    "# [CHANGED] EPSILON is not needed anymore\n",
    "# EPSILON = 1e-6\n",
    "\n",
    "for epoch in range(N_EPOCH):\n",
    "    for i, (img, label) in enumerate(train_loader):\n",
    "        img = img.flatten(start_dim=1)\n",
    "\n",
    "        real_img = img\n",
    "        if CUDA:\n",
    "            real_img = real_img.cuda()\n",
    "\n",
    "        fake_labels = torch.zeros(img.shape[0], 1).cuda()\n",
    "        real_labels = torch.ones(img.shape[0], 1).cuda()\n",
    "\n",
    "        z = torch.randn(img.shape[0], 128)\n",
    "        if CUDA:\n",
    "            z = z.cuda()\n",
    "        fake_img = generator(z)\n",
    "\n",
    "        opt_D.zero_grad()\n",
    "        loss_d = (F.binary_cross_entropy(discriminator(fake_img.detach()), fake_labels) +\n",
    "                  F.binary_cross_entropy(discriminator(real_img), real_labels))\n",
    "        loss_d.backward()\n",
    "        opt_D.step()\n",
    "\n",
    "        z = torch.randn(img.shape[0], 128)\n",
    "        if CUDA:\n",
    "          z = z.cuda()\n",
    "        fake_img = generator(z)\n",
    "\n",
    "        opt_G.zero_grad()\n",
    "        loss_g = F.binary_cross_entropy(discriminator(fake_img), real_labels)\n",
    "        loss_g.backward()\n",
    "        opt_G.step()\n",
    "\n",
    "    \n",
    "    print(\"epoch: {} \\t last batch loss D: {} \\t last batch loss G: {}\".format(epoch, loss_d.item(), loss_g.item()))\n",
    "\n",
    "    for i in range(3):\n",
    "        for j in range(10):\n",
    "            plt.subplot(3, 10, i * 10 + j + 1)\n",
    "            plt.imshow(fake_img[i * 10 + j].detach().cpu().view(28, 28).numpy())\n",
    "    plt.show()\n",
    "\n"
   ]
  },
  {
   "cell_type": "code",
   "execution_count": 0,
   "metadata": {
    "colab": {},
    "colab_type": "code",
    "collapsed": true,
    "id": "44KjFI1Ho3hp"
   },
   "outputs": [],
   "source": [
    "discriminator_for_linear_initialization = nn.Sequential(\n",
    "    nn.Dropout(),\n",
    "    nn.Linear(784, 256),\n",
    "    nn.LeakyReLU(0.2),\n",
    "    nn.Linear(256, 128),\n",
    "    nn.LeakyReLU(0.2),\n",
    "    nn.Linear(128, 64),\n",
    "    nn.Dropout(),\n",
    "    nn.LeakyReLU(0.2),\n",
    "    nn.Linear(64, 1),\n",
    "    nn.Sigmoid()\n",
    ")\n",
    "\n",
    "generator_for_linear_initialization = nn.Sequential(\n",
    "    nn.Linear(128, 128),\n",
    "    nn.LeakyReLU(0.2),\n",
    "    nn.Linear(128, 256),\n",
    "    nn.LeakyReLU(0.2),\n",
    "    nn.Linear(256, 512),\n",
    "    nn.LeakyReLU(0.2),\n",
    "    nn.Linear(512, 784),\n",
    "    nn.Sigmoid()\n",
    ")\n",
    "\n",
    "if CUDA:\n",
    "  discriminator_for_linear_initialization.cuda()\n",
    "  generator_for_linear_initialization.cuda()\n",
    "\n",
    "  \n",
    "LEARNING_RATE_D_for_linear_initialization = 0.0002\n",
    "LEARNING_RATE_G_for_linear_initialization = 0.0002\n",
    "\n",
    "\n",
    "opt_D = optim.Adam(discriminator_for_linear_initialization.parameters(), \n",
    "                   lr=LEARNING_RATE_D_for_linear_initialization)\n",
    "opt_G = optim.Adam(generator_for_linear_initialization.parameters(), \n",
    "                   lr=LEARNING_RATE_G_for_linear_initialization)"
   ]
  },
  {
   "cell_type": "code",
   "execution_count": 14,
   "metadata": {
    "colab": {
     "base_uri": "https://localhost:8080/",
     "height": 21417,
     "output_embedded_package_id": "1XaplFrmQaxDWyYvcLO_0F_v-lwrAU92y"
    },
    "colab_type": "code",
    "executionInfo": {
     "elapsed": 1702270,
     "status": "ok",
     "timestamp": 1559070350991,
     "user": {
      "displayName": "Alireza Ziabari",
      "photoUrl": "https://lh5.googleusercontent.com/-ciGzsAjhRdY/AAAAAAAAAAI/AAAAAAAAAus/cXIzpbkKXu0/s64/photo.jpg",
      "userId": "18285492427157036835"
     },
     "user_tz": -270
    },
    "id": "T6q_InsGI-ad",
    "outputId": "32914648-0233-46cf-e516-7c7ef3a1680d"
   },
   "outputs": [
    {
     "data": {
      "text/plain": [
       "Output hidden; open in https://colab.research.google.com to view."
      ]
     },
     "metadata": {},
     "output_type": "display_data"
    }
   ],
   "source": [
    "for epoch in range(N_EPOCH):\n",
    "    for i, (img, label) in enumerate(train_loader):\n",
    "        img = img.flatten(start_dim=1)\n",
    "\n",
    "        real_img = img\n",
    "        if CUDA:\n",
    "            real_img = real_img.cuda()\n",
    "\n",
    "        fake_labels = torch.zeros(img.shape[0], 1).cuda()\n",
    "        real_labels = torch.ones(img.shape[0], 1).cuda()\n",
    "\n",
    "        z = torch.rand(img.shape[0], 128) * 2 - 1\n",
    "        if CUDA:\n",
    "            z = z.cuda()\n",
    "        fake_img = generator_for_linear_initialization(z)\n",
    "\n",
    "        opt_D.zero_grad()\n",
    "        loss_d = (F.binary_cross_entropy(discriminator_for_linear_initialization(fake_img.detach()), fake_labels) +\n",
    "                  F.binary_cross_entropy(discriminator_for_linear_initialization(real_img), real_labels))\n",
    "        loss_d.backward()\n",
    "        opt_D.step()\n",
    "        \n",
    "        z = torch.rand(img.shape[0], 128) * 2 - 1\n",
    "        if CUDA:\n",
    "          z = z.cuda()\n",
    "        fake_img = generator_for_linear_initialization(z)\n",
    "\n",
    "        opt_G.zero_grad()\n",
    "        loss_g = F.binary_cross_entropy(discriminator_for_linear_initialization(fake_img), real_labels)\n",
    "        loss_g.backward()\n",
    "        opt_G.step()\n",
    "\n",
    "    \n",
    "    print(\"epoch: {} \\t last batch loss D: {} \\t last batch loss G: {}\".format(epoch, loss_d.item(), loss_g.item()))\n",
    "\n",
    "    for i in range(3):\n",
    "        for j in range(10):\n",
    "            plt.subplot(3, 10, i * 10 + j + 1)\n",
    "            plt.imshow(fake_img[i * 10 + j].detach().cpu().view(28, 28).numpy())\n",
    "    plt.show()\n"
   ]
  },
  {
   "cell_type": "code",
   "execution_count": 0,
   "metadata": {
    "colab": {},
    "colab_type": "code",
    "collapsed": true,
    "id": "jt9IjiaJsN5j"
   },
   "outputs": [],
   "source": [
    "N_EPOCH = 100\n",
    "d = 32\n",
    "discriminator_DC = nn.Sequential(\n",
    "    nn.Conv2d(1, d, 4, 2, 1), #14\n",
    "    nn.LeakyReLU(0.2),\n",
    "    nn.Conv2d(d, d*2, 4, 2, 1), #7\n",
    "    nn.BatchNorm2d(d*2),\n",
    "    nn.LeakyReLU(0.2),\n",
    "    nn.Conv2d(d*2, d*4, 4, 2, 1), #4 \n",
    "    nn.BatchNorm2d(d*4),\n",
    "    nn.LeakyReLU(0.2),\n",
    "    nn.Conv2d(d*4, 1, 3, 2, 0), #1 \n",
    "    nn.Sigmoid()\n",
    ")\n",
    "\n",
    "generator_DC = nn.Sequential(\n",
    "    nn.ConvTranspose2d(100, d*8, 3, 2, 0), #3\n",
    "    nn.BatchNorm2d(d*8),\n",
    "    nn.ReLU(),\n",
    "    nn.ConvTranspose2d(d*8, d*4, 3, 2, 0), #7\n",
    "    nn.BatchNorm2d(d*4),\n",
    "    nn.ReLU(),\n",
    "    nn.ConvTranspose2d(d*4, d*2, 3, 2, 0), # 15\n",
    "    nn.BatchNorm2d(d*2),\n",
    "    nn.ReLU(),\n",
    "    nn.ConvTranspose2d(d*2, 1, 2, 2, 1), #28\n",
    ")\n",
    "\n",
    "\n",
    "if CUDA:\n",
    "  discriminator_DC.cuda()\n",
    "  generator_DC.cuda()\n",
    "\n",
    "\n",
    "  \n",
    "LEARNING_RATE_D_DC = 0.002\n",
    "LEARNING_RATE_G_DC = 0.002\n",
    "\n",
    "opt_D = optim.Adam(discriminator_DC.parameters(), \n",
    "                   lr=LEARNING_RATE_D_DC)\n",
    "opt_G = optim.Adam(generator_DC.parameters(), \n",
    "                   lr=LEARNING_RATE_G_DC)"
   ]
  },
  {
   "cell_type": "code",
   "execution_count": 16,
   "metadata": {
    "colab": {
     "base_uri": "https://localhost:8080/",
     "height": 21417,
     "output_embedded_package_id": "1q2WO8uaKTa_E1HfJRqOwHYkbk4TJkxx8"
    },
    "colab_type": "code",
    "executionInfo": {
     "elapsed": 3449674,
     "status": "ok",
     "timestamp": 1559072098399,
     "user": {
      "displayName": "Alireza Ziabari",
      "photoUrl": "https://lh5.googleusercontent.com/-ciGzsAjhRdY/AAAAAAAAAAI/AAAAAAAAAus/cXIzpbkKXu0/s64/photo.jpg",
      "userId": "18285492427157036835"
     },
     "user_tz": -270
    },
    "id": "i-prx75WFrRd",
    "outputId": "be00ac5e-5ff3-4d88-e0e4-7c833bf64f61"
   },
   "outputs": [
    {
     "data": {
      "text/plain": [
       "Output hidden; open in https://colab.research.google.com to view."
      ]
     },
     "metadata": {},
     "output_type": "display_data"
    }
   ],
   "source": [
    "for epoch in range(N_EPOCH):\n",
    "    for i, (img, label) in enumerate(train_loader):\n",
    "      \n",
    "        real_img = img.view(-1, 1, 28, 28)\n",
    "        if CUDA:\n",
    "            real_img = real_img.cuda()\n",
    "\n",
    "        fake_labels = torch.zeros(img.shape[0], 1,1,1).cuda()\n",
    "        real_labels = torch.ones(img.shape[0], 1,1,1).cuda()\n",
    "#         noise = torch.randn(img.shape[0], 28 * 28).view(-1, 1, 28, 28)\n",
    "#         if CUDA:\n",
    "#           noise = noise.cuda()\n",
    "        real_img \n",
    "    \n",
    "        z = torch.randn(img.shape[0], 100)\n",
    "        z = z.view(-1, 100, 1, 1)\n",
    "        if CUDA:\n",
    "            z = z.cuda()\n",
    "        fake_img = generator_DC(z) \n",
    "        opt_D.zero_grad()\n",
    "        loss_d = (F.binary_cross_entropy(discriminator_DC(fake_img.detach()), \n",
    "                                         fake_labels) \n",
    "                  + F.binary_cross_entropy(discriminator_DC(real_img), \n",
    "                                           real_labels))\n",
    "        loss_d.backward()\n",
    "        opt_D.step()\n",
    "        \n",
    "        z = torch.randn(img.shape[0], 100)\n",
    "        z = z.view(-1, 100, 1, 1)\n",
    "        \n",
    "        if CUDA:\n",
    "          z = z.cuda()\n",
    "        fake_img = generator_DC(z)\n",
    "        \n",
    "        opt_G.zero_grad()\n",
    "        loss_g = F.binary_cross_entropy(discriminator_DC(fake_img), real_labels)\n",
    "        loss_g.backward()\n",
    "        opt_G.step()\n",
    "        \n",
    "\n",
    "    \n",
    "    print(\"epoch: {} \\t last batch loss D: {} \\t last batch loss G: {}\".format(epoch, loss_d.item(), loss_g.item()))\n",
    "\n",
    "    for i in range(3):\n",
    "        for j in range(10):\n",
    "            plt.subplot(3, 10, i * 10 + j + 1)\n",
    "            plt.imshow(fake_img[i * 10 + j].detach().cpu().view(28, 28).numpy())\n",
    "    plt.show()"
   ]
  }
 ],
 "metadata": {
  "accelerator": "GPU",
  "colab": {
   "collapsed_sections": [],
   "name": "pytorch.ipynb",
   "provenance": [],
   "version": "0.3.2"
  },
  "kernelspec": {
   "display_name": "Python 3",
   "language": "python",
   "name": "python3"
  },
  "language_info": {
   "codemirror_mode": {
    "name": "ipython",
    "version": 3
   },
   "file_extension": ".py",
   "mimetype": "text/x-python",
   "name": "python",
   "nbconvert_exporter": "python",
   "pygments_lexer": "ipython3",
   "version": "3.6.8"
  }
 },
 "nbformat": 4,
 "nbformat_minor": 1
}

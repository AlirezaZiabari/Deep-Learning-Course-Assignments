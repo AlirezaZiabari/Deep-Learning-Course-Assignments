{
 "cells": [
  {
   "cell_type": "markdown",
   "metadata": {
    "colab_type": "text",
    "id": "drDKyoDznPMP"
   },
   "source": [
    "# CE-40959: Deep Learning"
   ]
  },
  {
   "cell_type": "markdown",
   "metadata": {
    "colab_type": "text",
    "id": "PwNpC5conPMS"
   },
   "source": [
    "# HW3. Part 2. NumPy Based CNN block (20 + 10 points)"
   ]
  },
  {
   "cell_type": "markdown",
   "metadata": {
    "colab_type": "text",
    "id": "dusX00hNnPMV"
   },
   "source": [
    "### Deadline:   16 Farvardin"
   ]
  },
  {
   "cell_type": "markdown",
   "metadata": {
    "colab_type": "text",
    "id": "Nud1FqU0nPMX"
   },
   "source": [
    "##   Outline of the Assignment\n",
    "\n",
    "You will be implementing the building blocks of a convolutional neural network\n",
    "\n",
    "1. **`zero padding`**\n",
    "\n",
    "2. **`convolution : Forward`**\n",
    "\n",
    "3. **`convolution : Backwrd`**\n",
    "\n",
    "4. **`Max pooling`**\n",
    "\n",
    "5. **`Batch Normalization in CNN `**\n",
    "\n",
    "\n",
    "    \n",
    "This notebook will ask you to implement these functions from scratch in **`Numpy`**.\n",
    "\n",
    "\n",
    "**Note** that for every forward function, there is its corresponding backward equivalent. "
   ]
  },
  {
   "cell_type": "code",
   "execution_count": 1,
   "metadata": {
    "colab": {},
    "colab_type": "code",
    "collapsed": true,
    "id": "mlGba2SdnPMZ"
   },
   "outputs": [],
   "source": [
    "import tensorflow as tf\n",
    "import numpy as np\n",
    "import matplotlib.pyplot as plt\n"
   ]
  },
  {
   "cell_type": "markdown",
   "metadata": {
    "colab_type": "text",
    "id": "NVLBNfwjnPMh"
   },
   "source": [
    "## 1. Zero Padding (2 pts.)"
   ]
  },
  {
   "cell_type": "markdown",
   "metadata": {
    "colab_type": "text",
    "id": "uIofak2KnPMk"
   },
   "source": [
    "Zero-padding adds zeros around the border of an image:\n",
    "\n",
    "**Exercise**  : Implement the following function, which pads all the images of a batch of examples X with zeros."
   ]
  },
  {
   "cell_type": "markdown",
   "metadata": {
    "colab_type": "text",
    "id": "3Xac07WonPMn"
   },
   "source": [
    "shape of X and its zero pad array is :\n",
    "\n",
    "\n",
    "$$ X : (N, C, i_h, i_w)   $$\n",
    "$$  \\text{zeropad}(X) : (N, C, i_h + 2*ph, i_w + 2*pw)$$"
   ]
  },
  {
   "cell_type": "markdown",
   "metadata": {
    "colab_type": "text",
    "id": "xYa5kwC7nPMp"
   },
   "source": [
    "**Note** : you should not use np.pad in your implementation"
   ]
  },
  {
   "cell_type": "code",
   "execution_count": 2,
   "metadata": {
    "colab": {},
    "colab_type": "code",
    "collapsed": true,
    "id": "-2rbQl4enPMr"
   },
   "outputs": [],
   "source": [
    "def zero_padding(X, padding):\n",
    "    \"\"\"\n",
    "    Pad with zeros all images of the dataset X. The padding is applied to the height and width of an image.\n",
    "\n",
    "    input :\n",
    "      - X :  numpy array of shape (N, C, IH, IW) representing a batch of N images\n",
    "      - padding : a tuple of 2 integer (ph, pw), amount of padding around each image on vertical and horizontal dimensions\n",
    "    return :\n",
    "      - zero_pad : zero pad array of shape (N, C, IH + 2*ph, IW + 2*pw)\n",
    "    \n",
    "    \"\"\"\n",
    "    N = X.shape[0]\n",
    "    C = X.shape[1]\n",
    "    IH = X.shape[2]\n",
    "    IW = X.shape[3]\n",
    "    ph = padding[0]\n",
    "    pw = padding[1]\n",
    "    zero_pad = np.zeros((N, C, IH + 2*ph, IW + 2*pw))\n",
    "    zero_pad[:, :, ph:ph+IH, pw:pw+IW] =  X\n",
    "    \n",
    "    return zero_pad\n",
    "    "
   ]
  },
  {
   "cell_type": "code",
   "execution_count": 3,
   "metadata": {
    "colab": {},
    "colab_type": "code",
    "id": "bOvCLShTnPMy"
   },
   "outputs": [
    {
     "name": "stdout",
     "output_type": "stream",
     "text": [
      "your implementation is correct\n",
      "shape of x is : (2, 3, 4, 4)\n",
      "shape of x_pad is : (2, 3, 10, 8)\n"
     ]
    },
    {
     "data": {
      "text/plain": [
       "<matplotlib.image.AxesImage at 0x182986f0f0>"
      ]
     },
     "execution_count": 3,
     "metadata": {},
     "output_type": "execute_result"
    }
   ],
   "source": [
    "#test zero_padding function\n",
    "np.random.seed(1968)\n",
    "\n",
    "x = np.random.rand(2, 3 ,4, 4)\n",
    "padding = (3, 2)\n",
    "x_pad = zero_padding(x, padding)\n",
    "\n",
    "\n",
    "assert x_pad.shape==(x.shape[0], x.shape[1], x.shape[2] + 2*padding[0], x.shape[3] + 2*padding[1])\n",
    "assert np.all(x_pad[:, :, padding[0]:padding[0]+x.shape[2], padding[1]:padding[1]+x.shape[3]]==x)\n",
    "\n",
    "print(\"your implementation is correct\")\n",
    "print(\"shape of x is :\", x.shape)\n",
    "print(\"shape of x_pad is :\", x_pad.shape)\n",
    "\n",
    "fig, axarr = plt.subplots(1, 2)\n",
    "axarr[0].set_title('x')\n",
    "axarr[0].imshow(x[0, 0, :, :])\n",
    "axarr[1].set_title('x_pad')\n",
    "axarr[1].imshow(x_pad[0, 0, :, :])"
   ]
  },
  {
   "cell_type": "markdown",
   "metadata": {
    "colab_type": "text",
    "id": "yaLgNcJonPM5"
   },
   "source": [
    "## 2.convolution : Forward (4 pts.)"
   ]
  },
  {
   "cell_type": "markdown",
   "metadata": {
    "colab_type": "text",
    "id": "iSHkDYrfnPM7"
   },
   "source": [
    "In this Exercise, you implement convolutional neural networks using the NumPy library only.\n",
    "\n",
    "The input X,W are the input of the convolutional layer and the shape of X,W are $(N, C, i_h, i_w)$ , $(F, C, f_h, f_w)$ respectively and The return  value O is the output of the convolutional layer and the shape is $(N, F, O_h, O_w)$ where :\n",
    "\n",
    "$$\\text{stride} : (s_h,s_w)$$\n",
    "\n",
    "$$\\text{padding} : (p_h,p_w)$$\n",
    "\n",
    "$$O_w =\\lfloor \\frac{i_w - f_w + 2*p_w}{s_w} \\rfloor + 1$$\n",
    "\n",
    "$$O_h = \\lfloor\\frac{i_h - f_h + 2*p_h}{s_h}\\rfloor + 1$$\n",
    "$$O(b,f, i ,j)=\\sum_{r=0}^{C-1}\\sum_{k=0}^{f_h-1}\\sum_{l=0}^{f_w-1} W(f,r,k,l) X(b,r,s_h *i +k, s_w  *j +l)$$"
   ]
  },
  {
   "cell_type": "code",
   "execution_count": 4,
   "metadata": {
    "colab": {},
    "colab_type": "code",
    "collapsed": true,
    "id": "rc6Tt8EGnPM9"
   },
   "outputs": [],
   "source": [
    "def convolution2D(X, W, stride, padding):\n",
    "    \"\"\"\n",
    "    A implementation of the forward pass for a convolutional layer.\n",
    "    \n",
    "    The input consists of N data points, each with C channels, height IH and\n",
    "    width IW .We convolve each input with F different filters, where each filter\n",
    "    spans all C channels and has height FH and width FW.\n",
    "    \n",
    "    \n",
    "    inputs:\n",
    "     - X : input data of shape (N, C, IH, IW)\n",
    "     - W : Filter weight of shape (F, C, FH, FW)\n",
    "     - stride : a tuple of 2 integer (sh, sw)\n",
    "     - padding :a tuple of 2 integer (ph, pw)\n",
    "     \n",
    "    return:\n",
    "     - out : Output data, of shape (N, F, OH, OW) where OH and OW given by\n",
    "     \n",
    "     OH= 1 + int ( (IH + 2*ph - FH)/ sh )\n",
    "     OW= 1 + int ( (IW + 2*pw - FW)/ sw )\n",
    "    \n",
    "    \"\"\"\n",
    "    C = x.shape[1]\n",
    "    N = X.shape[0]\n",
    "    F = W.shape[0]\n",
    "    IH = X.shape[2]\n",
    "    IW = X.shape[3]\n",
    "    FH = W.shape[2]\n",
    "    FW = W.shape[3]\n",
    "    sh = stride[0]\n",
    "    sw = stride[1]\n",
    "    ph = padding[0]\n",
    "    pw = padding[1]\n",
    "    OH= 1 + int ( (IH + 2*ph - FH)/ sh )\n",
    "    OW= 1 + int ( (IW + 2*pw - FW)/ sw )\n",
    "    X_after_paddding = zero_padding(X, padding)\n",
    "    out = np.zeros((N, F, OH, OW))\n",
    "    for b in range(N):\n",
    "        for f in range(F):\n",
    "            for i in range(OH):\n",
    "                for j in range(OW):\n",
    "                    out[b,f,i,j] = np.sum(W[f ,: ,: ,:] * X_after_paddding[b ,: ,sh * i : sh * i + FH ,sw * j : sw * j + FW])\n",
    "    \n",
    "    return out\n"
   ]
  },
  {
   "cell_type": "markdown",
   "metadata": {
    "colab_type": "text",
    "id": "kuqhD5E8nPNJ"
   },
   "source": [
    "To test your implementation, we will compare the results  with tensorflow function"
   ]
  },
  {
   "cell_type": "code",
   "execution_count": 5,
   "metadata": {
    "colab": {},
    "colab_type": "code",
    "id": "_Ran5YbunPNM"
   },
   "outputs": [
    {
     "name": "stdout",
     "output_type": "stream",
     "text": [
      "Error : 3.6476928257419586e-27\n",
      "output shape : (2, 7, 8, 4)\n"
     ]
    }
   ],
   "source": [
    "np.random.seed(1973)\n",
    "param1 = {'X':np.random.rand(2, 3, 23, 20), 'W':np.random.rand(7, 3, 6, 6), 'stride':(3, 6), 'padding':(2, 3)}\n",
    "x_tf = np.pad(param1['X'], ((0, 0), (0, 0), (2, 2), (3, 3)), 'constant', constant_values=0)\n",
    "\n",
    "\n",
    "conv_numpy = convolution2D(**param1)\n",
    "conv = tf.nn.conv2d(tf.transpose(x_tf, [0 ,2, 3, 1]), tf.transpose(param1['W'], (2, 3, 1, 0)), [1, 3, 6, 1], 'VALID')\n",
    "conv = tf.transpose(conv, (0, 3, 1, 2))\n",
    "\n",
    "with tf.Session() as sess:\n",
    "    conv = sess.run(conv)\n",
    "\n",
    "\n",
    "assert conv.shape==conv_numpy.shape\n",
    "print(\"Error :\", (np.sum(conv - conv_numpy)**2))\n",
    "print(\"output shape :\", conv_numpy.shape)\n"
   ]
  },
  {
   "cell_type": "markdown",
   "metadata": {
    "colab_type": "text",
    "id": "Yam8Y2x8nPNe"
   },
   "source": [
    "** Expected Output: **\n",
    "<table>\n",
    "    <tr>\n",
    "        <td>\n",
    "            **out shape**\n",
    "        </td>\n",
    "        <td>\n",
    "            (2, 7, 8, 4)\n",
    "        </td>\n",
    "    </tr>\n",
    "    <tr>\n",
    "        <td>\n",
    "            **ERROR**\n",
    "        </td>\n",
    "        <td>\n",
    "            2.5559093329160782e-28\n",
    "       </td>\n",
    "    </tr>\n",
    "    \n",
    "</table>\n"
   ]
  },
  {
   "cell_type": "markdown",
   "metadata": {
    "colab_type": "text",
    "id": "fRFXIZfwnPNg"
   },
   "source": [
    "## 3.convolution : Backward"
   ]
  },
  {
   "cell_type": "markdown",
   "metadata": {
    "colab_type": "text",
    "id": "aEf-K0MKnPNi"
   },
   "source": [
    "### 3.1 - Backward  w.r.t. filter (4 pts.)"
   ]
  },
  {
   "cell_type": "markdown",
   "metadata": {
    "colab_type": "text",
    "id": "1guVkIsfnPNk"
   },
   "source": [
    "This is the formula for computing a $\\frac{\\partial L}{\\partial W}$ for a single $W(f^\\prime,c^\\prime,k^\\prime ,l^\\prime )$ that $W$ is 4-D array as a filter in convolution operation with shape $(F,C,f_h,f_w)$ "
   ]
  },
  {
   "cell_type": "markdown",
   "metadata": {
    "colab_type": "text",
    "id": "LmJRQzNRnPNm"
   },
   "source": [
    "$$\\frac{\\partial L}{\\partial W(f^\\prime,c^\\prime,k^\\prime ,l^\\prime )} = \\sum_{b=0}^{N-1}\\left (\\sum_{i=0}^{O_h-1}\\sum_{j=0}^{O_w-1} \\frac{\\partial L}{\\partial O(b,f^\\prime,i,j)} \\frac{\\partial O(i,j)}{\\partial W(f^\\prime,c^\\prime,k^\\prime ,l^\\prime )}\\right ) = \\sum_{b=0}^{N-1}\\left (\\sum_{i=0}^{O_w-1}\\sum_{j=0}^{O_h-1} \\frac{\\partial L}{\\partial O(b,f^\\prime,i,j)}  X(b,c^\\prime, s_h*i +k^\\prime, s_w*j +l^\\prime) \\right )$$\n"
   ]
  },
  {
   "cell_type": "code",
   "execution_count": 6,
   "metadata": {
    "colab": {},
    "colab_type": "code",
    "collapsed": true,
    "id": "g2g-PgNmnPNo"
   },
   "outputs": [],
   "source": [
    "def convolution2D_backward_filter(out_grad, X, W, stride):\n",
    "    \"\"\"\n",
    "    A implementation of the backward pass for a convolutional layer.\n",
    "    \n",
    "    inputs:\n",
    "     - out_grad  : gradient of the Loss with respect to the output of the conv layer with shape (N, F, OW, OH)\n",
    "     - X : input data of shape (N, C, IH, IW)\n",
    "     - W : Filter weight of shape (F, C, FH, FW)\n",
    "     - stride : a list of [sh, sw]\n",
    "     \n",
    "    return:\n",
    "     - dW : Gradient with respect to W\n",
    "    \n",
    "    \"\"\"\n",
    "    sh = stride[0]\n",
    "    sw = stride[1]\n",
    "    OW = out_grad.shape[2]\n",
    "    OH = out_grad.shape[3]\n",
    "    dW = np.zeros(W.shape)\n",
    "    for f in range(W.shape[0]):\n",
    "        for c in range(W.shape[1]):\n",
    "            for k in range(W.shape[2]):\n",
    "                for l in range(W.shape[3]):\n",
    "                    dW[f,c,k,l] = np.sum(out_grad[:,f,:,:] * X[: ,c ,k : k + sh * OW : sh ,l : l + sw * OH : sw])\n",
    "                    \n",
    "    return dW\n",
    "    "
   ]
  },
  {
   "cell_type": "code",
   "execution_count": 7,
   "metadata": {
    "colab": {},
    "colab_type": "code",
    "id": "N5GrLdnlnPNu"
   },
   "outputs": [
    {
     "name": "stdout",
     "output_type": "stream",
     "text": [
      "WARNING:tensorflow:From /Users/alireza/anaconda3/lib/python3.6/site-packages/tensorflow/python/framework/op_def_library.py:263: colocate_with (from tensorflow.python.framework.ops) is deprecated and will be removed in a future version.\n",
      "Instructions for updating:\n",
      "Colocations handled automatically by placer.\n",
      "Error  : 1.4546595092275458e-27\n",
      "dW_tf  : 5340.576411697173\n",
      "dW  : 5340.576411697173\n"
     ]
    }
   ],
   "source": [
    "np.random.seed(1345)\n",
    "\n",
    "param = {'X':np.random.rand(2, 3, 10,10), 'W':np.random.rand(7, 3, 4, 4), 'stride':(2, 2)}\n",
    "c_1 = np.ones((2, 7, 4, 4))   \n",
    "dw = convolution2D_backward_filter(c_1, **param)\n",
    "\n",
    "\n",
    "\n",
    "w = tf.Variable(tf.transpose(param['W'],(2, 3, 1, 0)),name='v')\n",
    "c = tf.nn.conv2d(tf.transpose(param['X'],[0, 2, 3, 1]), w, [1, 2, 2, 1], 'VALID')\n",
    "loss = tf.reduce_sum(c)\n",
    "dw_tf = tf.gradients(loss, w)\n",
    "with tf.Session() as sess:\n",
    "    sess.run(tf.global_variables_initializer())\n",
    "    dw_tf = sess.run(dw_tf)\n",
    "\n",
    "\n",
    "\n",
    "dw = np.transpose(dw, (2, 3 ,1, 0))\n",
    "print(\"Error  :\", np.sum((dw-dw_tf[0])**2))\n",
    "print(\"dW_tf  :\", np.sum(dw_tf[0]))\n",
    "print(\"dW  :\", np.sum(dw))"
   ]
  },
  {
   "cell_type": "markdown",
   "metadata": {
    "colab_type": "text",
    "id": "FzXtSW_InPN0"
   },
   "source": [
    "** Expected Output: **\n",
    "<table>\n",
    "    <tr>\n",
    "        <td>\n",
    "            **dW_tf**\n",
    "        </td>\n",
    "        <td>\n",
    "            5340.576411697173\n",
    "        </td>\n",
    "    </tr>\n",
    "    <tr>\n",
    "        <td>\n",
    "            **dW**\n",
    "        </td>\n",
    "        <td>\n",
    "            5340.576411697173\n",
    "        </td>\n",
    "    </tr>\n",
    "    <tr>\n",
    "        <td>\n",
    "            **Error**\n",
    "        </td>\n",
    "        <td>\n",
    "            2.473867798773093e-27\n",
    " </td>\n",
    "    </tr>\n",
    "\n",
    "</table>\n"
   ]
  },
  {
   "cell_type": "markdown",
   "metadata": {
    "colab_type": "text",
    "id": "nxyz9o2GnPN3"
   },
   "source": [
    "### 3.2 - Backward  w.r.t. input (4 pts.)"
   ]
  },
  {
   "cell_type": "markdown",
   "metadata": {
    "colab_type": "text",
    "id": "H7P5oyWXnPN5"
   },
   "source": [
    "This is the formula for computing a $\\frac{\\partial L}{\\partial X}$ for a single $X(b^\\prime,c^\\prime,k^\\prime ,l^\\prime )$ that $X$ is 4-D array as a input in convolution operation with shape $(N,C,i_h,i_w)$ "
   ]
  },
  {
   "cell_type": "markdown",
   "metadata": {
    "colab_type": "text",
    "id": "nLGji2fKnPN7"
   },
   "source": [
    "$$\\frac{\\partial L}{\\partial X(b^\\prime,c^\\prime,k^\\prime ,l^\\prime )} = \\sum_{f=0}^{F-1}\\left (\\sum_{i=0}^{O_h-1}\\sum_{j=0}^{O_w-1} \\frac{\\partial L}{\\partial O(b^\\prime,f,i,j)} \\frac{\\partial O(b^\\prime,f,i,j)}{\\partial X(b^\\prime,c^\\prime,k^\\prime ,l^\\prime )}\\right ) = \\sum_{f=0}^{F-1}\\left (\\sum_{i=0}^{O_h-1}\\sum_{j=0}^{O_w-1} \\frac{\\partial L}{\\partial O(b^\\prime,f,i,j)} W(f,c^\\prime,k^\\prime - s_h*i, l^\\prime - s_w*j) \\right )$$\n"
   ]
  },
  {
   "cell_type": "code",
   "execution_count": 8,
   "metadata": {
    "colab": {},
    "colab_type": "code",
    "collapsed": true,
    "id": "k9-Ez6OQnPN-"
   },
   "outputs": [],
   "source": [
    "def convolution2D_backward_input(out_grad, X, W, stride):\n",
    "    \"\"\"\n",
    "    A implementation of the backward pass for a convolutional layer.\n",
    "    \n",
    "    inputs:\n",
    "     - out_grad  : gradient of the Loss with respect to the output of the conv layer with shape (N, F, OW, OH)\n",
    "     - X : input data of shape (N, C, IH, IW)\n",
    "     - W : Filter weight of shape (F, C, FH, FW)\n",
    "     - stride : a list of [sh, sw]\n",
    "     \n",
    "    return:\n",
    "     - dX : Gradient with respect to X\n",
    "    \n",
    "    \"\"\"\n",
    "    sh = stride[0]\n",
    "    sw = stride[1]\n",
    "    OW = out_grad.shape[2]\n",
    "    OH = out_grad.shape[3] \n",
    "    dX = np.zeros(X.shape)\n",
    "    fh = W.shape[2]\n",
    "    fw = W.shape[3]\n",
    "    for n in range(out_grad.shape[0]):\n",
    "        for f in range(out_grad.shape[1]):\n",
    "            for i in range(OH):\n",
    "                for j in range(OW):\n",
    "                    dX[n,:,i * sh : i * sh + fh,j * sw : j * sw + fw] += out_grad[n,f,j,i] * W[f ,: ,: ,:]\n",
    "                    \n",
    "    return dX\n",
    "    "
   ]
  },
  {
   "cell_type": "code",
   "execution_count": 9,
   "metadata": {
    "colab": {},
    "colab_type": "code",
    "id": "VJwwMZqInPOE"
   },
   "outputs": [
    {
     "name": "stdout",
     "output_type": "stream",
     "text": [
      "Error is : 0.0\n",
      "dX_tf is : 208.39287018595633\n",
      "dX is : 208.39287018595633\n"
     ]
    }
   ],
   "source": [
    "np.random.seed(1992)\n",
    "\n",
    "param = {'X':np.random.rand(5, 3, 6, 6), 'W':np.random.rand(2, 3, 2, 2), 'stride':(3,3)}\n",
    "grad = np.ones((5, 2, 2, 2))\n",
    "dx = convolution2D_backward_input(grad, **param)\n",
    "\n",
    "\n",
    "\n",
    "w = tf.Variable(tf.transpose(param['W'], (2, 3, 1, 0)), name='v')\n",
    "x = tf.Variable(tf.transpose(param['X'], [0, 2, 3, 1]), name='x')\n",
    "c = tf.nn.conv2d(x, w, [1,3,3,1], 'VALID')\n",
    "loss = tf.reduce_sum(c)\n",
    "g = tf.gradients(loss, x)\n",
    "with tf.Session() as sess:\n",
    "    sess.run(tf.global_variables_initializer())\n",
    "    dx_tf = sess.run(g)\n",
    "dx = np.transpose(dx, (0, 2, 3, 1))\n",
    "\n",
    "\n",
    "\n",
    "assert dx.shape==dx_tf[0].shape\n",
    "print(\"Error is :\", np.sum((dx-dx_tf[0])**2))\n",
    "print(\"dX_tf is :\", np.sum(dx_tf[0]))\n",
    "print(\"dX is :\", np.sum(dx))"
   ]
  },
  {
   "cell_type": "markdown",
   "metadata": {
    "colab_type": "text",
    "id": "kmIIdIwqnPOL"
   },
   "source": [
    "** Expected Output: **\n",
    "<table>\n",
    "    <tr>\n",
    "        <td>\n",
    "            **dX_tf**\n",
    "        </td>\n",
    "        <td>\n",
    "            208.39287018595633\n",
    "        </td>\n",
    "    </tr>\n",
    "    <tr>\n",
    "        <td>\n",
    "            **dX**\n",
    "        </td>\n",
    "        <td>\n",
    "            208.39287018595633\n",
    "        </td>\n",
    "    </tr>\n",
    "    <tr>\n",
    "        <td>\n",
    "            **Error**\n",
    "        </td>\n",
    "        <td>\n",
    "            0.0\n",
    " </td>\n",
    "    </tr>\n",
    "\n",
    "</table>\n"
   ]
  },
  {
   "cell_type": "markdown",
   "metadata": {
    "colab_type": "text",
    "id": "01DiIHblnPOO"
   },
   "source": [
    "## 4.Pooling"
   ]
  },
  {
   "cell_type": "markdown",
   "metadata": {
    "colab_type": "text",
    "id": "0s_-ssYznPOQ"
   },
   "source": [
    "### 4.1 - forward max pooling (3 pts.)"
   ]
  },
  {
   "cell_type": "markdown",
   "metadata": {
    "colab_type": "text",
    "id": "Zuq2YNg1nPOS"
   },
   "source": [
    "The pooling layer reduces the height and width of the input. It helps reduce computation"
   ]
  },
  {
   "cell_type": "markdown",
   "metadata": {
    "colab_type": "text",
    "id": "f_SFsAmLnPOV"
   },
   "source": [
    " - Max-pooling layer: slides an ($f, f$) window with stride $s$ over the input and stores the max value of the window in the output.\n",
    "\n",
    "in function below X is input and shape of X is $(N, C, i_h, i_w)$  and output is shape $(N, C, O_h, O_w)$ that :\n",
    "\n",
    " $$O_h =\\lfloor\\frac{i_h - f }{s}\\rfloor + 1$$\n",
    " $$O_w =\\lfloor\\frac{i_w - f }{s}\\rfloor + 1$$"
   ]
  },
  {
   "cell_type": "markdown",
   "metadata": {
    "colab_type": "text",
    "id": "GEYR4RCNnPOX"
   },
   "source": [
    "**Exercise**: Implement the forward pass of the pooling layer\n"
   ]
  },
  {
   "cell_type": "code",
   "execution_count": 10,
   "metadata": {
    "colab": {},
    "colab_type": "code",
    "collapsed": true,
    "id": "VaWcSaPKnPOZ"
   },
   "outputs": [],
   "source": [
    "def pool_forward(X, f, s):\n",
    "    \"\"\"\n",
    "    Implements the forward pass of the pooling layer\n",
    "    \n",
    "    input:\n",
    "       - X : numpy array of shape (N, C, IH, IW)\n",
    "       - f : int, filter size in height and width dim\n",
    "       - s : int\n",
    "    \n",
    "    Returns:\n",
    "       - pool : output of the pool layer, a numpy array of shape (N, C, OH, OW) where OH and OW given by\n",
    "       \n",
    "       OH = 1 + int((IH - f)/s)\n",
    "       OW = 1 + int((IW - f)/s)\n",
    "    \n",
    "    \"\"\"\n",
    "    N = X.shape[0]\n",
    "    C = X.shape[1]\n",
    "    IH = X.shape[2]\n",
    "    IW = X.shape[3]\n",
    "    OH = 1 + int((IH - f)/s)\n",
    "    OW = 1 + int((IW - f)/s)\n",
    "    \n",
    "    pool = np.zeros((N, C, OH, OW))\n",
    "    for i in range(OH):\n",
    "        for j in range(OW):\n",
    "            pool[:,:,i,j] = np.amax(X[:,:,i * s : i * s + f ,j * s : j * s + f],axis=(2,3))\n",
    "    \n",
    "    return pool\n",
    "      "
   ]
  },
  {
   "cell_type": "code",
   "execution_count": 11,
   "metadata": {
    "colab": {},
    "colab_type": "code",
    "id": "JtN8FqAlnPOj"
   },
   "outputs": [
    {
     "name": "stdout",
     "output_type": "stream",
     "text": [
      "your implementation is correct\n",
      "output shape : (2, 3, 2, 2)\n",
      "output : [[[[0.46800661 0.6818562 ]\n",
      "   [0.95191188 0.58676102]]\n",
      "\n",
      "  [[0.6288546  0.99632119]\n",
      "   [0.80094484 0.96251272]]\n",
      "\n",
      "  [[0.67012954 0.80356619]\n",
      "   [0.91517917 0.83174796]]]\n",
      "\n",
      "\n",
      " [[[0.80458243 0.97712759]\n",
      "   [0.91272943 0.86171778]]\n",
      "\n",
      "  [[0.8827965  0.95316097]\n",
      "   [0.95877647 0.98136021]]\n",
      "\n",
      "  [[0.96840121 0.87088313]\n",
      "   [0.70449495 0.89625081]]]]\n",
      "Error : 0.0\n"
     ]
    }
   ],
   "source": [
    "np.random.seed(1975)\n",
    "x=np.random.rand(2,3,23,23)\n",
    "\n",
    "hyper_param={\"f\":2, \"s\" :11}\n",
    "c=pool_forward(x,**hyper_param)\n",
    "\n",
    "pool_tf = tf.nn.max_pool(tf.transpose(x,(0,2,3,1)),[1,2,2,1],[1,11,11,1],'VALID') ## tensorflow api\n",
    "\n",
    "with tf.Session() as sess:\n",
    "    pool_tf =sess.run(pool_tf)\n",
    "    \n",
    "pool_tf=np.transpose(pool_tf, (0,3,1,2))\n",
    "assert c.shape==pool_tf.shape\n",
    "assert (c==pool_tf).all()\n",
    "\n",
    "print(\"your implementation is correct\")\n",
    "print(\"output shape :\", c.shape)\n",
    "print(\"output :\", c)\n",
    "print(\"Error :\" ,np.sum((c-pool_tf)**2))\n"
   ]
  },
  {
   "cell_type": "markdown",
   "metadata": {
    "colab_type": "text",
    "id": "hr0tWI2qnPOp"
   },
   "source": [
    "** Expected Output: **\n",
    "<table>\n",
    "    <tr>\n",
    "        <td>\n",
    "            **Error**\n",
    "        </td>\n",
    "        <td>\n",
    "            0.0\n",
    "        </td>\n",
    "    </tr>\n",
    "    <tr>\n",
    "        <td>\n",
    "            **output shape **\n",
    "        </td>\n",
    "        <td>\n",
    "            (2, 3, 2, 2)\n",
    "        </td>\n",
    "    </tr>\n",
    "\n",
    "\n",
    "</table>\n"
   ]
  },
  {
   "cell_type": "markdown",
   "metadata": {
    "colab_type": "text",
    "id": "SRCZdRWinPOr"
   },
   "source": [
    "### 4.2 - backward max pooling (3 pts.)"
   ]
  },
  {
   "cell_type": "markdown",
   "metadata": {
    "colab_type": "text",
    "id": "FN1kDBVhnPOt"
   },
   "source": [
    "**Exercise**  :implement the backward pass for the pooling layer. Even though a pooling layer has no parameters for backprop to update, you still need to backpropagation the gradient through the pooling layer in order to compute gradients for layers that came before the pooling layer. \n"
   ]
  },
  {
   "cell_type": "code",
   "execution_count": 24,
   "metadata": {
    "colab": {},
    "colab_type": "code",
    "collapsed": true,
    "id": "hpSvOKFWnPOy"
   },
   "outputs": [],
   "source": [
    "def pool_back(grad_pool, X, f, s):\n",
    "    \"\"\"\n",
    "    Implements the backward pass of the pooling layer\n",
    "    \n",
    "    Arguments:\n",
    "       - grad_pool : gradient of cost with respect to the output of the pooling layer\n",
    "       - X : input to pooling layer , numpy array with shape (N, C, IH, IW)\n",
    "       - f : int, filter size in height and width dim\n",
    "       - s :  int\n",
    "    Returns:\n",
    "       - dX_pool  : gradient of cost with respect to the input of the pooling layer, same shape as X\n",
    "    \"\"\"\n",
    "    dX_pool = np.zeros(X.shape)\n",
    "    print (grad_pool.shape, X.shape)\n",
    "    for n in range(grad_pool.shape[0]):\n",
    "        for c in range(grad_pool.shape[1]):\n",
    "            for i in range(grad_pool.shape[2]):\n",
    "                for j in range(grad_pool.shape[3]):\n",
    "                    index = np.argmax(X[n,c,i * s : i * s + f ,j * s : j * s + f])\n",
    "                    dX_pool[n,c,i * s : i * s + f ,j * s : j * s + f][np.unravel_index(index, (f,f))] += grad_pool[n,c,i,j]\n",
    "\n",
    "    return dX_pool\n",
    "    "
   ]
  },
  {
   "cell_type": "code",
   "execution_count": 25,
   "metadata": {
    "colab": {},
    "colab_type": "code",
    "id": "1uBU0WeUnPO3"
   },
   "outputs": [
    {
     "name": "stdout",
     "output_type": "stream",
     "text": [
      "(2, 3, 7, 7) (2, 3, 10, 10)\n",
      "mean of dX : 0.2428232587752177\n",
      "dX[1,2,2:5,2:5] =  [[0.         0.         1.09075724]\n",
      " [1.29276074 0.         1.15881724]\n",
      " [0.         0.61727634 0.        ]]\n"
     ]
    }
   ],
   "source": [
    "np.random.seed(19)\n",
    "X=np.random.rand(2,3,10,10)\n",
    "g=np.random.rand(2,3,7,7)\n",
    "\n",
    "f=2\n",
    "s=1\n",
    "dX=pool_back(g, X, f, s)\n",
    "\n",
    "\n",
    "print(\"mean of dX :\",np.mean(dX))\n",
    "print(\"dX[1,2,2:5,2:5] = \",dX[1,2,2:5,2:5])\n",
    "\n"
   ]
  },
  {
   "cell_type": "markdown",
   "metadata": {
    "colab_type": "text",
    "id": "0qOjFOKonPO-"
   },
   "source": [
    "**Expected Output**: \n",
    "\n",
    "<table> \n",
    "<tr> \n",
    "<td>\n",
    "\n",
    "**mean of dX =**\n",
    "</td>\n",
    "\n",
    "<td>\n",
    "\n",
    "0.2428232587752177\n",
    "  </td>\n",
    "</tr>\n",
    "\n",
    "<tr> \n",
    "<td>\n",
    "**dX[1,2,2:5,2:5] =** \n",
    "</td>\n",
    "<td>\n",
    "[[0.         0.         1.09075724]\n",
    " [1.29276074 0.         1.15881724]\n",
    " [0.         0.61727634 0.        ]]\n",
    "</td>\n",
    "</tr>\n",
    "</table>\n",
    "\n"
   ]
  },
  {
   "cell_type": "markdown",
   "metadata": {
    "colab_type": "text",
    "id": "SbjFV9EwnPPA"
   },
   "source": [
    "### 5. Batch Normalization in CNN (Optional)(bonus grade)(6 pts.)"
   ]
  },
  {
   "cell_type": "markdown",
   "metadata": {
    "colab_type": "text",
    "id": "XewKYMkHnPPC"
   },
   "source": [
    "### 5.1 - BN forward (3 pts.)"
   ]
  },
  {
   "cell_type": "markdown",
   "metadata": {
    "colab_type": "text",
    "id": "Z2AYHTmcnPPD"
   },
   "source": [
    "A family of feature normalization methods, including BN(Batch Normalization), LN(Layer Normalization), perform the following computation:\n",
    "$$\\hat{x_i} = \\frac{1}{\\sigma_i} (x_i - \\mu_i)$$\n",
    "\n",
    "Here $x$ is the feature computed by a layer, and $i$ is an index.In the case of 2D images, $i = (i_N , i_C , i_H , i_W )$ is a 4D vector indexing the features in $(N, C, H, W )$ order, where $N$ is the batch axis, $C$ is the channel axis, and $H$ and $W$ are the spatial height and width axes.\n",
    "\n",
    "$μ$ and $\\sigma$ in  are the mean and standard deviation (std) computed by :\n",
    "\n",
    "$$μ_i = \\frac{1}{m}\\sum_{k \\in S_i} x_i $$\n",
    "\n",
    "$$\\sigma_i = \\sqrt{\\frac{1}{m}\\sum_{k \\in S_i}(x_k - μ_i)^2 + \\epsilon}$$\n",
    "\n",
    "$S_i$ is the set of pixels in which\n",
    "the mean and std are computed, and m is the size of this set.\n",
    "In **Batch Norm** the set $S_i$  is defined as : \n",
    "$$S_i = \\left\\{k | k_C = i_C \\right\\}$$\n",
    "\n",
    "the pixels sharing the same channel index are normalized together, i.e., for each channel, BN computes $\\mu$ and $\\sigma$ along the $(N, H, W )$ axes "
   ]
  },
  {
   "cell_type": "code",
   "execution_count": 14,
   "metadata": {
    "colab": {},
    "colab_type": "code",
    "collapsed": true,
    "id": "FuB8ippfnPPF"
   },
   "outputs": [],
   "source": [
    "def batch_norm_forward(X, gamma, beta):\n",
    "    \n",
    "    \"\"\"\n",
    "    Computes the forward pass for spatial batch normalization.\n",
    "\n",
    "    Inputs:\n",
    "    - X: Input data of shape (N, C, H, W)\n",
    "    - gamma: Scale parameter, of shape (C,)\n",
    "    - beta: Shift parameter, of shape (C,)\n",
    "    \n",
    "    Returns:\n",
    "    - BN: Output data, of shape (N, C, H, W)\n",
    "    \"\"\"\n",
    "    BN =[]\n",
    "\n",
    "    x_mean = X.mean(axis=(0, 2, 3))\n",
    "    x_mean_reshape = x_mean[np.newaxis,:,np.newaxis,np.newaxis]\n",
    "    x_std = X.std(axis=(0, 2, 3))\n",
    "    x_std_reshape = x_std[np.newaxis,:,np.newaxis,np.newaxis]\n",
    "    gamma_reshape = gamma[np.newaxis,:,np.newaxis,np.newaxis]\n",
    "    beta_reshape = beta[np.newaxis,:,np.newaxis,np.newaxis]\n",
    "    BN = (X - x_mean_reshape) / x_std_reshape * gamma_reshape + beta_reshape\n",
    "    \n",
    "    return np.array(BN)\n",
    "    "
   ]
  },
  {
   "cell_type": "code",
   "execution_count": 28,
   "metadata": {
    "colab": {},
    "colab_type": "code",
    "id": "-_GOlpj1nPPK"
   },
   "outputs": [
    {
     "name": "stdout",
     "output_type": "stream",
     "text": [
      "Before spatial batch normalization:\n",
      "  Shape:  (2, 3, 4, 5)\n",
      "  Means:  [9.33463814 8.90909116 9.11056338]\n",
      "  Stds:  [3.61447857 3.19347686 3.5168142 ]\n",
      "After spatial batch normalization:\n",
      "  Shape:  (2, 3, 4, 5)\n",
      "  Means:  [-3.33066907e-16  4.44089210e-17 -1.11022302e-16]\n",
      "  Stds:  [1. 1. 1.]\n",
      "After spatial batch normalization (nontrivial gamma, beta):\n",
      "  Shape:  (2, 3, 4, 5)\n",
      "  Means:  [6. 7. 8.]\n",
      "  Stds:  [3. 4. 5.]\n"
     ]
    }
   ],
   "source": [
    "np.random.seed(231)\n",
    "\n",
    "N, C, H, W = 2, 3, 4, 5\n",
    "X = 4 * np.random.randn(N, C, H, W) + 10\n",
    "\n",
    "print('Before spatial batch normalization:')\n",
    "print('  Shape: ', X.shape)\n",
    "print('  Means: ', X.mean(axis=(0, 2, 3)))\n",
    "print('  Stds: ', X.std(axis=(0, 2, 3)))\n",
    "\n",
    "# Means should be close to zero and stds close to one\n",
    "gamma, beta = np.ones(C), np.zeros(C)\n",
    "out= batch_norm_forward(X, gamma, beta)\n",
    "print('After spatial batch normalization:')\n",
    "print('  Shape: ', out.shape)\n",
    "print('  Means: ', out.mean(axis=(0, 2, 3)))\n",
    "print('  Stds: ', out.std(axis=(0, 2, 3)))\n",
    "\n",
    "# Means should be close to beta and stds close to gamma\n",
    "gamma, beta = np.asarray([3, 4, 5]), np.asarray([6, 7, 8])\n",
    "out= batch_norm_forward(X, gamma, beta)\n",
    "print('After spatial batch normalization (nontrivial gamma, beta):')\n",
    "print('  Shape: ', out.shape)\n",
    "print('  Means: ', out.mean(axis=(0, 2, 3)))\n",
    "print('  Stds: ', out.std(axis=(0, 2, 3)))"
   ]
  },
  {
   "cell_type": "markdown",
   "metadata": {
    "colab_type": "text",
    "id": "Y8VfnIKGnPPQ"
   },
   "source": [
    "### 5.2 - BN Backward (3 pts.)"
   ]
  },
  {
   "cell_type": "code",
   "execution_count": 32,
   "metadata": {
    "colab": {},
    "colab_type": "code",
    "collapsed": true,
    "id": "5r_IylqknPPS"
   },
   "outputs": [],
   "source": [
    "def batch_norm_backward(dout, X, gamma, beta):\n",
    "    \"\"\"\n",
    "    Computes the forward pass for spatial batch normalization.\n",
    "\n",
    "    Inputs:\n",
    "    - dout :\n",
    "    - X: Input data of shape (N, C, H, W)\n",
    "    - gamma: Scale parameter, of shape (C,)\n",
    "    - beta: Shift parameter, of shape (C,)\n",
    "    \n",
    "    Returns:\n",
    "    - dX: Output data, of shape (N, C, H, W)\n",
    "    \"\"\"\n",
    "    dX = None\n",
    "    \n",
    "    x_mean = X.mean(axis=(0, 2, 3))\n",
    "    x_mean_reshape = x_mean[np.newaxis,:,np.newaxis,np.newaxis]\n",
    "    x_std = X.std(axis=(0, 2, 3))\n",
    "    x_std_reshape = x_std[np.newaxis,:,np.newaxis,np.newaxis]\n",
    "    gamma_reshape = gamma[np.newaxis,:,np.newaxis,np.newaxis]\n",
    "    beta_reshape = beta[np.newaxis,:,np.newaxis,np.newaxis]\n",
    "    \n",
    "    gamma, beta = self.params['gamma'].data, self.params['beta'].data\n",
    "\n",
    "    \n",
    "    B = X.shape[0]\n",
    "    x_norm = (X - x_mean_reshape) / x_std_reshape\n",
    "    dx_norm = dout * gamma\n",
    "    dvar = np.sum(dx_norm * (X - x_mean_reshape), axis=0) * -.5 / np.power(x_std_reshape,3)\n",
    "    dmu = np.sum(-dx_norm / x_std_reshape, axis=0) + dvar * np.mean(-2. * (X - x_mean_reshape), axis=0)\n",
    "\n",
    "    dX = (dx_norm / x_std_reshape) + (dvar * 2 * (X - x_mean_reshape) / B) + (dmu / B)\n",
    "    \n",
    "    return dX\n",
    "    \n"
   ]
  }
 ],
 "metadata": {
  "colab": {
   "collapsed_sections": [],
   "name": "CNN_modify.ipynb",
   "provenance": [],
   "version": "0.3.2"
  },
  "kernelspec": {
   "display_name": "Python 3",
   "language": "python",
   "name": "python3"
  },
  "language_info": {
   "codemirror_mode": {
    "name": "ipython",
    "version": 3
   },
   "file_extension": ".py",
   "mimetype": "text/x-python",
   "name": "python",
   "nbconvert_exporter": "python",
   "pygments_lexer": "ipython3",
   "version": "3.6.8"
  }
 },
 "nbformat": 4,
 "nbformat_minor": 1
}

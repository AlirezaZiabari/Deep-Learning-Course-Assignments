{
 "cells": [
  {
   "cell_type": "markdown",
   "metadata": {},
   "source": [
    "# CE-40959: Deep Learning"
   ]
  },
  {
   "cell_type": "code",
   "execution_count": 1,
   "metadata": {
    "collapsed": true
   },
   "outputs": [],
   "source": [
    "# importing modules\n",
    "from utils import load_data\n",
    "from models import Dense\n",
    "from train import train\n",
    "import tensorflow as tf\n",
    "import numpy as np\n",
    "import matplotlib.pyplot as plt\n",
    "\n",
    "%matplotlib inline\n",
    "plt.rcParams['figure.figsize'] = (10.0, 10.0) # set default size of plots\n",
    "plt.rcParams['image.interpolation'] = 'nearest'\n",
    "plt.rcParams['image.cmap'] = 'gray'\n",
    "\n",
    "# The following two lines let us reload external modules in the notebook\n",
    "%load_ext autoreload\n",
    "%autoreload 2"
   ]
  },
  {
   "cell_type": "markdown",
   "metadata": {},
   "source": [
    "# Data Description and Loading Data\n",
    "\n",
    "On this notebook, we are going to work on farsi OCR dataset. As its name implies, it is like famous **MNIST** dataset but it consists of images of handwritten digits in farsi. Each instance of this dataset is 32 * 32 gray-scale image. It is totally composed of 80000 instances. After loading this data, let's plot some images in order to see how they look like.\n",
    "\n",
    "Train, validation and test sets are loaded using a method in `utils.py`. Training set includes 0.7 of the whole dataset and test set just has 0.1 of it. Rest is assigned as validation set.\n",
    "\n",
    "**Note**: Images are flattened that's why their size is 1024 = 32 * 32."
   ]
  },
  {
   "cell_type": "code",
   "execution_count": 2,
   "metadata": {},
   "outputs": [
    {
     "name": "stdout",
     "output_type": "stream",
     "text": [
      "Loading the whole dataset...\n"
     ]
    }
   ],
   "source": [
    "x_train, y_train, x_validation, y_validation, x_test, y_test = load_data()"
   ]
  },
  {
   "cell_type": "code",
   "execution_count": 3,
   "metadata": {},
   "outputs": [
    {
     "data": {
      "image/png": "[encoded data removed]",
      "text/plain": [
       "<matplotlib.figure.Figure at 0x1834a0d748>"
      ]
     },
     "metadata": {},
     "output_type": "display_data"
    }
   ],
   "source": [
    "num_sample = 10\n",
    "num_class = 10\n",
    "fig, ax = plt.subplots(nrows=num_sample, ncols=num_class)\n",
    "\n",
    "for i in range(num_class):\n",
    "    class_i_images = [x_train[k] for k in range(x_train.shape[0]) if y_train[k][i] == 1]\n",
    "    for j in range(num_sample):\n",
    "        ax[j, i].get_xaxis().set_visible(False)\n",
    "        ax[j, i].get_yaxis().set_visible(False)\n",
    "        ax[j, i].imshow(class_i_images[j].reshape((32, 32)))"
   ]
  },
  {
   "cell_type": "markdown",
   "metadata": {},
   "source": [
    "# Setting Flags\n",
    "Tensorflow has the option of setting of some flags which should be defined once and can be used in any file later.\n",
    "\n",
    "Here we define flags for\n",
    "1. `learning_rate`: Shows the initial learning rate in optimization process.\n",
    "\n",
    "2. `num_epoch`: The total number of epochs for training process.\n",
    "\n",
    "3. `weight_decay`: The coeffecient of L2 Loss term in total Loss function.\n",
    "\n",
    "4. `batch_size`: Size of each batch given to model."
   ]
  },
  {
   "cell_type": "code",
   "execution_count": 4,
   "metadata": {
    "collapsed": true
   },
   "outputs": [],
   "source": [
    "flags = tf.app.flags\n",
    "FLAGS = flags.FLAGS\n",
    "flags.DEFINE_string('f', '', 'kernel')\n",
    "flags.DEFINE_float('learning_rate', 0.001, 'Initial learning rate.')\n",
    "flags.DEFINE_integer('num_epoch', 10, 'Number of epochs to train.')\n",
    "flags.DEFINE_float('weight_decay', 0., 'Weight for L2 loss')\n",
    "flags.DEFINE_integer('batch_size', 100, 'Size of batch')"
   ]
  },
  {
   "cell_type": "markdown",
   "metadata": {},
   "source": [
    "# Defining Initializers\n",
    "\n",
    "In the following cell we are importing some intializers which are defined in `utils.py`. Based on their explanation, you have to complete their code in `utils.py` and then import them."
   ]
  },
  {
   "cell_type": "code",
   "execution_count": 5,
   "metadata": {
    "collapsed": true
   },
   "outputs": [],
   "source": [
    "from utils import glorot_initializer, zero_initializer, normal_initializer"
   ]
  },
  {
   "cell_type": "markdown",
   "metadata": {},
   "source": [
    "# Developing MLP Model\n",
    "\n",
    "`Dense` model is defined as a python class in `models.py`. Its constructor receives as input followings:\n",
    "\n",
    "1. num_hidden: Number of hidden units and output units.\n",
    "2. weight_initializer: Function used for initializing weights\n",
    "3. bias_initializer: Function used for initializing biases\n",
    "4. act: Activation function used for hidden layers\n",
    "5. logging: This is a boolean showing whether the model saves log of weights and biases for later visualization using tensorboard.\n",
    "6. stddev: Standard deviation in case of having normal initializer for weights of layers.\n",
    "\n",
    "You have to complete some parts of `__init__`, `_loss`, `_accuracy`, `_log_vars` and `_build` methods in this class.\n",
    "\n",
    "There is also another python file `layers.py` consists of the class `DenseLayer`. The arguments of its constructor are:\n",
    "1. input_dim: Dimension of input to layer\n",
    "2. output_dim: Dimension of output of layer\n",
    "3. act: Activation function of layer\n",
    "4. weight_initializer: Function used for initializing weights\n",
    "5. bias_initializer: Function used for initializing biases\n",
    "6. stddev: Standard deviation in case of having normal initializer for weights of the layer.\n",
    "\n",
    "Some part of `__call__` method of is left for you to complete.\n",
    "\n",
    "**Note**: It is necessary to complete aforementioned python files before moving forward to following cells."
   ]
  },
  {
   "cell_type": "markdown",
   "metadata": {},
   "source": [
    "# Experimenting on features of an MLP\n",
    "\n",
    "In the rest of this notebook, some experiments should be done on different setting like regularization, activation function, number of layers, etc combined with some visualizations."
   ]
  },
  {
   "cell_type": "markdown",
   "metadata": {},
   "source": [
    "## Different activation functions"
   ]
  },
  {
   "cell_type": "markdown",
   "metadata": {},
   "source": [
    "On the following cell we have defined a model with number of hidden units 200, 100, 50. Note that the outputs of last 10 units, after which a softmax function is applied, act as scores for 10 class of digits in data.\n",
    "\n",
    "You also have to use uniform glorot initializer and zero initializer for weights and biases, respectively.\n",
    "\n",
    "The last point here is that we are using **sigmoid** as activation function of all layers.\n",
    "\n",
    "Later, we will apply another one and observe its difference"
   ]
  },
  {
   "cell_type": "code",
   "execution_count": 6,
   "metadata": {},
   "outputs": [
    {
     "name": "stdout",
     "output_type": "stream",
     "text": [
      "WARNING:tensorflow:From /Users/alireza/anaconda3/lib/python3.6/site-packages/tensorflow/python/framework/op_def_library.py:263: colocate_with (from tensorflow.python.framework.ops) is deprecated and will be removed in a future version.\n",
      "Instructions for updating:\n",
      "Colocations handled automatically by placer.\n",
      "WARNING:tensorflow:From /Users/Alireza/Desktop/Current Semester/Deep Learning/Assignments/DL_HW3_V2/Practical/HW 3.1 MLP/models.py:134: softmax_cross_entropy_with_logits (from tensorflow.python.ops.nn_ops) is deprecated and will be removed in a future version.\n",
      "Instructions for updating:\n",
      "\n",
      "Future major versions of TensorFlow will allow gradients to flow\n",
      "into the labels input on backprop by default.\n",
      "\n",
      "See `tf.nn.softmax_cross_entropy_with_logits_v2`.\n",
      "\n"
     ]
    }
   ],
   "source": [
    "from utils import glorot_initializer, zero_initializer, normal_initializer\n",
    "from models import Dense\n",
    "import tensorflow as tf\n",
    "model = Dense(num_hidden=[200, 100, 50, 10],\n",
    "              weight_initializer=glorot_initializer,\n",
    "              bias_initializer=zero_initializer,\n",
    "              act=tf.nn.sigmoid,\n",
    "              logging=True)"
   ]
  },
  {
   "cell_type": "markdown",
   "metadata": {},
   "source": [
    "After defining the model we need to trigger training process by using the code partly prepared in `train.py`. After filling required lines run the following cell to start training.\n",
    "In this file some writers are defined which are later used for plotting visualizations in tensorboard framework. Summary information defined as scalars (like loss) and histograms (like weights) are saved by this writers in `logs` folder near existing files. More specifically, for each model another folder whose name came from `log_file` variable is created.\n",
    "\n",
    "Furthermore, when you define a session using `with`, the session is just restricted to its following context and can not be used in outer scope."
   ]
  },
  {
   "cell_type": "code",
   "execution_count": 7,
   "metadata": {},
   "outputs": [
    {
     "name": "stdout",
     "output_type": "stream",
     "text": [
      "Epoch 1: train loss=2.319, train acc=0.123\n",
      "\n",
      "Epoch 2: train loss=2.303, train acc=0.126\n",
      "\n",
      "Epoch 3: train loss=2.300, train acc=0.133\n",
      "\n",
      "Epoch 4: train loss=2.298, train acc=0.169\n",
      "\n",
      "Epoch 5: train loss=2.297, train acc=0.223\n",
      "\n",
      "Epoch 6: train loss=2.296, train acc=0.237\n",
      "\n",
      "Epoch 7: train loss=2.294, train acc=0.272\n",
      "\n",
      "Epoch 8: train loss=2.293, train acc=0.310\n",
      "\n",
      "Epoch 9: train loss=2.292, train acc=0.346\n",
      "\n",
      "Epoch 10: train loss=2.291, train acc=0.380\n",
      "\n",
      "Test: average loss=2.291, average accuracy=0.383\n",
      "-------\n"
     ]
    }
   ],
   "source": [
    "with tf.Session() as sess:\n",
    "    log_file = str(model.act.__name__)\n",
    "    train(x_train, y_train, x_validation, y_validation, x_test, y_test, model, sess, log_file)"
   ]
  },
  {
   "cell_type": "markdown",
   "metadata": {},
   "source": [
    "**Important Note:** In order to run different computation graphs in the same process, it is compulsary to reset the default graph to a new one which is defined later. To do so, you have to use method `tf.rest_default_graph()` as in the following cell. Otherwise, you will end up with lots of nodes in the default graph of computation."
   ]
  },
  {
   "cell_type": "code",
   "execution_count": 8,
   "metadata": {
    "collapsed": true
   },
   "outputs": [],
   "source": [
    "tf.reset_default_graph()"
   ]
  },
  {
   "cell_type": "markdown",
   "metadata": {},
   "source": [
    "Let's maintain the same settings but change activation function to **tanh** and run the whole process again."
   ]
  },
  {
   "cell_type": "code",
   "execution_count": 9,
   "metadata": {},
   "outputs": [
    {
     "name": "stdout",
     "output_type": "stream",
     "text": [
      "Epoch 1: train loss=1.216, train acc=0.764\n",
      "\n",
      "Epoch 2: train loss=0.859, train acc=0.827\n",
      "\n",
      "Epoch 3: train loss=0.691, train acc=0.853\n",
      "\n",
      "Epoch 4: train loss=0.589, train acc=0.868\n",
      "\n",
      "Epoch 5: train loss=0.521, train acc=0.880\n",
      "\n",
      "Epoch 6: train loss=0.472, train acc=0.889\n",
      "\n",
      "Epoch 7: train loss=0.435, train acc=0.896\n",
      "\n",
      "Epoch 8: train loss=0.405, train acc=0.902\n",
      "\n",
      "Epoch 9: train loss=0.382, train acc=0.908\n",
      "\n",
      "Epoch 10: train loss=0.362, train acc=0.912\n",
      "\n",
      "Test: average loss=0.359, average accuracy=0.912\n",
      "-------\n"
     ]
    }
   ],
   "source": [
    "model = Dense(num_hidden=[200, 100, 50, 10],\n",
    "              weight_initializer=glorot_initializer,\n",
    "              bias_initializer=zero_initializer,\n",
    "              act=tf.nn.tanh,\n",
    "              logging=True)\n",
    "with tf.Session() as sess:\n",
    "    log_file = str(model.act.__name__)\n",
    "    train(x_train, y_train, x_validation, y_validation, x_test, y_test, model, sess, log_file)\n",
    "tf.reset_default_graph()"
   ]
  },
  {
   "cell_type": "markdown",
   "metadata": {},
   "source": [
    "---\n",
    "\n",
    "# Question 1\n",
    "Compare `tanh` and `sigmoid` based on above results. Explain your observation from the visualizations produced by tensorboard.\n",
    "\n",
    "---"
   ]
  },
  {
   "cell_type": "markdown",
   "metadata": {},
   "source": [
    "## Different Initializations\n",
    "\n",
    "Next we want to see the effect of aforementioned initializers."
   ]
  },
  {
   "cell_type": "markdown",
   "metadata": {},
   "source": [
    "At first we use zero initializer both for biases and weights. By doing so, specially for weight initialization, the network will get in trouble with breaking the symmetry."
   ]
  },
  {
   "cell_type": "code",
   "execution_count": 10,
   "metadata": {},
   "outputs": [
    {
     "name": "stdout",
     "output_type": "stream",
     "text": [
      "Epoch 1: train loss=2.303, train acc=0.101\n",
      "\n",
      "Epoch 2: train loss=2.303, train acc=0.101\n",
      "\n",
      "Epoch 3: train loss=2.303, train acc=0.101\n",
      "\n",
      "Epoch 4: train loss=2.303, train acc=0.101\n",
      "\n",
      "Epoch 5: train loss=2.303, train acc=0.101\n",
      "\n",
      "Epoch 6: train loss=2.303, train acc=0.101\n",
      "\n",
      "Epoch 7: train loss=2.303, train acc=0.101\n",
      "\n",
      "Epoch 8: train loss=2.303, train acc=0.101\n",
      "\n",
      "Epoch 9: train loss=2.303, train acc=0.101\n",
      "\n",
      "Epoch 10: train loss=2.303, train acc=0.101\n",
      "\n",
      "Test: average loss=2.303, average accuracy=0.098\n",
      "-------\n"
     ]
    }
   ],
   "source": [
    "model = Dense(num_hidden=[200, 50, 10],\n",
    "              weight_initializer=zero_initializer,\n",
    "              bias_initializer=zero_initializer,\n",
    "              act=tf.nn.tanh,\n",
    "              logging=True)\n",
    "\n",
    "with tf.Session() as sess:\n",
    "    log_file = str(model.act.__name__) + \"_\" + str(model.weight_initializer.__name__)\n",
    "    train(x_train, y_train, x_validation, y_validation, x_test, y_test, model, sess, log_file)\n",
    "tf.reset_default_graph()    "
   ]
  },
  {
   "cell_type": "markdown",
   "metadata": {},
   "source": [
    "***\n",
    "\n",
    "# Question 2\n",
    "\n",
    "Use tensorboard visualizations of weights and learning curves (like loss and accuracy) as well to discuss about the issue raised by using zeros initializer for weights.\n",
    "\n",
    "---"
   ]
  },
  {
   "cell_type": "markdown",
   "metadata": {},
   "source": [
    "Let's see what is the impact of using normal initializer for weights.\n",
    "\n",
    "Do not forget to send in standard deviation of gaussain distribution used for sampling weights as an argument to model constructor for all next experiments."
   ]
  },
  {
   "cell_type": "code",
   "execution_count": 11,
   "metadata": {},
   "outputs": [
    {
     "name": "stdout",
     "output_type": "stream",
     "text": [
      "Normal Initializer with stddev: 10\n",
      "Epoch 1: train loss=86.173, train acc=0.089\n",
      "\n",
      "Epoch 2: train loss=84.265, train acc=0.091\n",
      "\n",
      "Epoch 3: train loss=82.556, train acc=0.094\n",
      "\n",
      "Epoch 4: train loss=81.091, train acc=0.096\n",
      "\n",
      "Epoch 5: train loss=79.693, train acc=0.099\n",
      "\n",
      "Epoch 6: train loss=78.456, train acc=0.101\n",
      "\n",
      "Epoch 7: train loss=77.204, train acc=0.103\n",
      "\n",
      "Epoch 8: train loss=76.038, train acc=0.106\n",
      "\n",
      "Epoch 9: train loss=74.923, train acc=0.108\n",
      "\n",
      "Epoch 10: train loss=73.870, train acc=0.111\n",
      "\n",
      "Test: average loss=77.272, average accuracy=0.102\n",
      "-------\n",
      "Normal Initializer with stddev: 1\n",
      "Epoch 1: train loss=7.850, train acc=0.143\n",
      "\n",
      "Epoch 2: train loss=6.805, train acc=0.175\n",
      "\n",
      "Epoch 3: train loss=5.999, train acc=0.209\n",
      "\n",
      "Epoch 4: train loss=5.367, train acc=0.245\n",
      "\n",
      "Epoch 5: train loss=4.859, train acc=0.278\n",
      "\n",
      "Epoch 6: train loss=4.433, train acc=0.310\n",
      "\n",
      "Epoch 7: train loss=4.075, train acc=0.339\n",
      "\n",
      "Epoch 8: train loss=3.771, train acc=0.365\n",
      "\n",
      "Epoch 9: train loss=3.511, train acc=0.390\n",
      "\n",
      "Epoch 10: train loss=3.289, train acc=0.413\n",
      "\n",
      "Test: average loss=3.434, average accuracy=0.397\n",
      "-------\n",
      "Normal Initializer with stddev: 0.1\n",
      "Epoch 1: train loss=1.870, train acc=0.513\n",
      "\n",
      "Epoch 2: train loss=1.530, train acc=0.695\n",
      "\n",
      "Epoch 3: train loss=1.268, train acc=0.755\n",
      "\n",
      "Epoch 4: train loss=1.073, train acc=0.788\n",
      "\n",
      "Epoch 5: train loss=0.928, train acc=0.811\n",
      "\n",
      "Epoch 6: train loss=0.819, train acc=0.827\n",
      "\n",
      "Epoch 7: train loss=0.735, train acc=0.839\n",
      "\n",
      "Epoch 8: train loss=0.669, train acc=0.849\n",
      "\n",
      "Epoch 9: train loss=0.617, train acc=0.857\n",
      "\n",
      "Epoch 10: train loss=0.574, train acc=0.863\n",
      "\n",
      "Test: average loss=0.571, average accuracy=0.865\n",
      "-------\n"
     ]
    }
   ],
   "source": [
    "stddev_list = [10, 1, 0.1]\n",
    "for stddev in stddev_list:\n",
    "    print('Normal Initializer with stddev: {}'.format(stddev))\n",
    "    model = Dense(num_hidden=[200, 50, 10],\n",
    "                  weight_initializer=normal_initializer,\n",
    "                  bias_initializer=zero_initializer,\n",
    "                  act=tf.nn.tanh,\n",
    "                  logging=True,\n",
    "                  stddev=stddev)\n",
    "\n",
    "    with tf.Session() as sess:\n",
    "        log_file = str(model.act.__name__) + \"_\" + str(model.weight_initializer.__name__) + \"_\" + str(stddev)\n",
    "        train(x_train, y_train, x_validation, y_validation, x_test, y_test, model, sess, log_file)\n",
    "    tf.reset_default_graph()"
   ]
  },
  {
   "cell_type": "markdown",
   "metadata": {},
   "source": [
    "---\n",
    "\n",
    "# Question 3\n",
    "\n",
    "Use tensorboard visualizations of weights and learning curves (like loss and accuracy) as well to describe differences through training process caused by using different standard deviations.\n",
    "\n",
    "---"
   ]
  },
  {
   "cell_type": "markdown",
   "metadata": {},
   "source": [
    "## Different Architectures (layers and units)\n",
    "\n",
    "Next, we will cast light on the importance of architecture of neural networks (more specifically number of layers and units)\n",
    "\n",
    "Here we will examine two architectures. Comparing with above setting, we will increase the number of epochs to 15 and change learning rate to 0.01. What makes difference between two architectures is the number of layers and units.\n",
    "\n",
    "In the first one we have 3 hidden layers with 500, 100, 50 units, respectively. This model imposes high computational cost. On the other hand, the second network has one less hidden layer but same number of units in the rest of layers. Totally it has less complexity in terms of number of parameters compared with the first network."
   ]
  },
  {
   "cell_type": "code",
   "execution_count": 12,
   "metadata": {},
   "outputs": [
    {
     "name": "stdout",
     "output_type": "stream",
     "text": [
      "Number of hidden units:  [500, 100, 50, 10]\n",
      "Epoch 1: train loss=3.158, train acc=0.427\n",
      "\n",
      "Epoch 2: train loss=2.017, train acc=0.577\n",
      "\n",
      "Epoch 3: train loss=1.512, train acc=0.654\n",
      "\n",
      "Epoch 4: train loss=1.219, train acc=0.703\n",
      "\n",
      "Epoch 5: train loss=1.034, train acc=0.737\n",
      "\n",
      "Epoch 6: train loss=0.912, train acc=0.763\n",
      "\n",
      "Epoch 7: train loss=0.822, train acc=0.781\n",
      "\n",
      "Epoch 8: train loss=0.753, train acc=0.797\n",
      "\n",
      "Epoch 9: train loss=0.699, train acc=0.810\n",
      "\n",
      "Epoch 10: train loss=0.654, train acc=0.820\n",
      "\n",
      "Epoch 11: train loss=0.616, train acc=0.831\n",
      "\n",
      "Epoch 12: train loss=0.583, train acc=0.839\n",
      "\n",
      "Epoch 13: train loss=0.555, train acc=0.847\n",
      "\n",
      "Epoch 14: train loss=0.532, train acc=0.854\n",
      "\n",
      "Epoch 15: train loss=0.512, train acc=0.859\n",
      "\n",
      "Test: average loss=1.167, average accuracy=0.718\n",
      "-------\n",
      "Number of hidden units:  [100, 50, 10]\n",
      "Epoch 1: train loss=2.989, train acc=0.446\n",
      "\n",
      "Epoch 2: train loss=1.923, train acc=0.591\n",
      "\n",
      "Epoch 3: train loss=1.506, train acc=0.660\n",
      "\n",
      "Epoch 4: train loss=1.278, train acc=0.701\n",
      "\n",
      "Epoch 5: train loss=1.130, train acc=0.730\n",
      "\n",
      "Epoch 6: train loss=1.023, train acc=0.749\n",
      "\n",
      "Epoch 7: train loss=0.941, train acc=0.763\n",
      "\n",
      "Epoch 8: train loss=0.874, train acc=0.776\n",
      "\n",
      "Epoch 9: train loss=0.821, train acc=0.786\n",
      "\n",
      "Epoch 10: train loss=0.776, train acc=0.795\n",
      "\n",
      "Epoch 11: train loss=0.738, train acc=0.803\n",
      "\n",
      "Epoch 12: train loss=0.706, train acc=0.810\n",
      "\n",
      "Epoch 13: train loss=0.677, train acc=0.815\n",
      "\n",
      "Epoch 14: train loss=0.651, train acc=0.820\n",
      "\n",
      "Epoch 15: train loss=0.628, train acc=0.825\n",
      "\n",
      "Test: average loss=0.749, average accuracy=0.797\n",
      "-------\n"
     ]
    }
   ],
   "source": [
    "FLAGS.num_epoch = 15\n",
    "FLAGS.learning_rate = 0.01\n",
    "num_hidden_list = [[500, 100, 50, 10], [100, 50, 10]]\n",
    "stddev = 1\n",
    "for num_hidden in num_hidden_list:\n",
    "    print('Number of hidden units: ', num_hidden)\n",
    "    model = Dense(num_hidden=num_hidden,\n",
    "                  weight_initializer=normal_initializer,\n",
    "                  bias_initializer=zero_initializer,\n",
    "                  act=tf.nn.tanh,\n",
    "                  logging=True,\n",
    "                  stddev=stddev)\n",
    "    with tf.Session() as sess:\n",
    "        log_file = str(model.act.__name__) + \"_\" + str(model.num_hidden)\n",
    "        train(x_train, y_train, x_validation, y_validation, x_test, y_test, model, sess, log_file)\n",
    "    tf.reset_default_graph()"
   ]
  },
  {
   "cell_type": "markdown",
   "metadata": {},
   "source": [
    "---\n",
    "# Question 4\n",
    "By using tensorboard visualiztions justify the different outcomes of training the above two neural network architectures.\n",
    "\n",
    "---"
   ]
  },
  {
   "cell_type": "markdown",
   "metadata": {},
   "source": [
    "## Regularization\n",
    "\n",
    "Another important point to consider is applying regularization and being aware of its impact on training and generalization. Its most important rule is to prevent our learning process from overfitting (you may have encountered this phenomenon above!)\n",
    "\n",
    "In first experiment L2 regularization technique is not applied. However, in rest of them, it is used for penalizing two sets of weights:\n",
    "\n",
    "1. Weights between input and first hidden layer.\n",
    "2. Weights between first and second hidden layer."
   ]
  },
  {
   "cell_type": "code",
   "execution_count": 13,
   "metadata": {},
   "outputs": [
    {
     "name": "stdout",
     "output_type": "stream",
     "text": [
      "Weight decay of: 0.0\n",
      "Epoch 1: train loss=3.296, train acc=0.412\n",
      "\n",
      "Epoch 2: train loss=2.099, train acc=0.556\n",
      "\n",
      "Epoch 3: train loss=1.582, train acc=0.633\n",
      "\n",
      "Epoch 4: train loss=1.283, train acc=0.684\n",
      "\n",
      "Epoch 5: train loss=1.095, train acc=0.722\n",
      "\n",
      "Epoch 6: train loss=0.971, train acc=0.746\n",
      "\n",
      "Epoch 7: train loss=0.881, train acc=0.765\n",
      "\n",
      "Epoch 8: train loss=0.812, train acc=0.780\n",
      "\n",
      "Epoch 9: train loss=0.754, train acc=0.794\n",
      "\n",
      "Epoch 10: train loss=0.709, train acc=0.805\n",
      "\n",
      "Epoch 11: train loss=0.671, train acc=0.814\n",
      "\n",
      "Epoch 12: train loss=0.638, train acc=0.823\n",
      "\n",
      "Epoch 13: train loss=0.610, train acc=0.829\n",
      "\n",
      "Epoch 14: train loss=0.586, train acc=0.836\n",
      "\n",
      "Epoch 15: train loss=0.563, train acc=0.842\n",
      "\n",
      "Test: average loss=1.174, average accuracy=0.702\n",
      "-------\n",
      "Weight decay of: 0.0001\n",
      "Epoch 1: train loss=24.753, train acc=0.435\n",
      "\n",
      "Epoch 2: train loss=23.671, train acc=0.569\n",
      "\n",
      "Epoch 3: train loss=23.186, train acc=0.641\n",
      "\n",
      "Epoch 4: train loss=22.877, train acc=0.692\n",
      "\n",
      "Epoch 5: train loss=22.684, train acc=0.723\n",
      "\n",
      "Epoch 6: train loss=22.541, train acc=0.749\n",
      "\n",
      "Epoch 7: train loss=22.432, train acc=0.768\n",
      "\n",
      "Epoch 8: train loss=22.341, train acc=0.783\n",
      "\n",
      "Epoch 9: train loss=22.265, train acc=0.796\n",
      "\n",
      "Epoch 10: train loss=22.198, train acc=0.806\n",
      "\n",
      "Epoch 11: train loss=22.138, train acc=0.816\n",
      "\n",
      "Epoch 12: train loss=22.082, train acc=0.825\n",
      "\n",
      "Epoch 13: train loss=22.030, train acc=0.832\n",
      "\n",
      "Epoch 14: train loss=21.982, train acc=0.838\n",
      "\n",
      "Epoch 15: train loss=21.937, train acc=0.844\n",
      "\n",
      "Test: average loss=22.578, average accuracy=0.698\n",
      "-------\n",
      "Weight decay of: 0.001\n",
      "Epoch 1: train loss=218.681, train acc=0.403\n",
      "\n",
      "Epoch 2: train loss=215.127, train acc=0.553\n",
      "\n",
      "Epoch 3: train loss=212.274, train acc=0.630\n",
      "\n",
      "Epoch 4: train loss=209.660, train acc=0.678\n",
      "\n",
      "Epoch 5: train loss=207.175, train acc=0.709\n",
      "\n",
      "Epoch 6: train loss=204.768, train acc=0.732\n",
      "\n",
      "Epoch 7: train loss=202.412, train acc=0.751\n",
      "\n",
      "Epoch 8: train loss=200.100, train acc=0.767\n",
      "\n",
      "Epoch 9: train loss=197.827, train acc=0.781\n",
      "\n",
      "Epoch 10: train loss=195.589, train acc=0.792\n",
      "\n",
      "Epoch 11: train loss=193.383, train acc=0.801\n",
      "\n",
      "Epoch 12: train loss=191.206, train acc=0.810\n",
      "\n",
      "Epoch 13: train loss=189.056, train acc=0.817\n",
      "\n",
      "Epoch 14: train loss=186.934, train acc=0.824\n",
      "\n",
      "Epoch 15: train loss=184.838, train acc=0.830\n",
      "\n",
      "Test: average loss=185.433, average accuracy=0.696\n",
      "-------\n",
      "Weight decay of: 0.01\n",
      "Epoch 1: train loss=1948.343, train acc=0.411\n",
      "\n",
      "Epoch 2: train loss=1741.002, train acc=0.576\n",
      "\n",
      "Epoch 3: train loss=1556.218, train acc=0.662\n",
      "\n",
      "Epoch 4: train loss=1391.191, train acc=0.715\n",
      "\n",
      "Epoch 5: train loss=1243.734, train acc=0.750\n",
      "\n",
      "Epoch 6: train loss=1111.945, train acc=0.775\n",
      "\n",
      "Epoch 7: train loss=994.146, train acc=0.795\n",
      "\n",
      "Epoch 8: train loss=888.842, train acc=0.809\n",
      "\n",
      "Epoch 9: train loss=794.702, train acc=0.821\n",
      "\n",
      "Epoch 10: train loss=710.539, train acc=0.834\n",
      "\n",
      "Epoch 11: train loss=635.297, train acc=0.845\n",
      "\n",
      "Epoch 12: train loss=568.026, train acc=0.855\n",
      "\n",
      "Epoch 13: train loss=507.883, train acc=0.864\n",
      "\n",
      "Epoch 14: train loss=454.113, train acc=0.872\n",
      "\n",
      "Epoch 15: train loss=406.041, train acc=0.879\n",
      "\n",
      "Test: average loss=406.499, average accuracy=0.785\n",
      "-------\n",
      "Weight decay of: 0.1\n",
      "Epoch 1: train loss=7095.645, train acc=0.496\n",
      "\n",
      "Epoch 2: train loss=2314.146, train acc=0.738\n",
      "\n",
      "Epoch 3: train loss=754.796, train acc=0.863\n",
      "\n",
      "Epoch 4: train loss=246.255, train acc=0.925\n",
      "\n",
      "Epoch 5: train loss=80.431, train acc=0.949\n",
      "\n",
      "Epoch 6: train loss=26.333, train acc=0.963\n",
      "\n",
      "Epoch 7: train loss=8.685, train acc=0.972\n",
      "\n",
      "Epoch 8: train loss=2.962, train acc=0.972\n",
      "\n",
      "Epoch 9: train loss=1.117, train acc=0.970\n",
      "\n",
      "Epoch 10: train loss=0.518, train acc=0.969\n",
      "\n",
      "Epoch 11: train loss=0.321, train acc=0.969\n",
      "\n",
      "Epoch 12: train loss=0.256, train acc=0.969\n",
      "\n",
      "Epoch 13: train loss=0.233, train acc=0.969\n",
      "\n",
      "Epoch 14: train loss=0.225, train acc=0.969\n",
      "\n",
      "Epoch 15: train loss=0.221, train acc=0.969\n",
      "\n",
      "Test: average loss=0.234, average accuracy=0.962\n",
      "-------\n"
     ]
    }
   ],
   "source": [
    "weight_decay_list = [0., 1e-4, 1e-3, 1e-2, 1e-1]\n",
    "for weight_decay in weight_decay_list:\n",
    "    print('Weight decay of: {}'.format(weight_decay))\n",
    "    FLAGS.weight_decay = weight_decay \n",
    "    model = Dense(num_hidden=[500, 100, 50, 10],\n",
    "                  weight_initializer=normal_initializer,\n",
    "                  bias_initializer=zero_initializer,\n",
    "                  act=tf.nn.tanh,\n",
    "                  logging=True,\n",
    "                  stddev=1)\n",
    "    with tf.Session() as sess:\n",
    "        log_file = str(model.act.__name__) + \"_\" + str(FLAGS.weight_decay)\n",
    "        train(x_train, y_train, x_validation, y_validation, x_test, y_test, model, sess, log_file)\n",
    "    tf.reset_default_graph()"
   ]
  },
  {
   "cell_type": "markdown",
   "metadata": {},
   "source": [
    "---\n",
    "# Question 5\n",
    "By using visualiztion of learning curves (specially loss curve) try to explain the impact that L2 regularization had on training process.\n",
    "\n",
    "---"
   ]
  },
  {
   "cell_type": "markdown",
   "metadata": {},
   "source": [
    "### **Note**: \n",
    "So far, some questions were placed between cells of codes and descriptions. \n",
    "\n",
    "In addition to **completing the code files**, please send a **report** including your answer to these questions as well. Do not forget to put the diagrams and visualizations needed in each part."
   ]
  }
 ],
 "metadata": {
  "kernelspec": {
   "display_name": "Python 3",
   "language": "python",
   "name": "python3"
  },
  "language_info": {
   "codemirror_mode": {
    "name": "ipython",
    "version": 3
   },
   "file_extension": ".py",
   "mimetype": "text/x-python",
   "name": "python",
   "nbconvert_exporter": "python",
   "pygments_lexer": "ipython3",
   "version": "3.6.3"
  }
 },
 "nbformat": 4,
 "nbformat_minor": 2
}
